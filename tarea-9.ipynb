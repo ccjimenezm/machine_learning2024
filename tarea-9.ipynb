{
 "cells": [
  {
   "metadata": {},
   "cell_type": "markdown",
   "source": [
    "### 1. Download the dataset MM-IMDB from https://www.kaggle.com/johnarevalo/datasets. Select 2000 images with drama label and 2000 with horror label. Be careful to exclude those images with both labels. Perform a 60%-20%-20% stratified split for training, validation and test datasets.\n",
    "### 2. Use a fine tuning approach to train a ResNet50 network to discriminate between drama and horror movies.\n",
    "### 3. Evaluate the model over the test dataset. Discuss the results."
   ],
   "id": "7a166228a85280c3"
  },
  {
   "metadata": {},
   "cell_type": "code",
   "outputs": [],
   "execution_count": null,
   "source": "",
   "id": "6d95d9a4484f772b"
  }
 ],
 "metadata": {
  "kernelspec": {
   "display_name": "Python 3",
   "language": "python",
   "name": "python3"
  },
  "language_info": {
   "codemirror_mode": {
    "name": "ipython",
    "version": 2
   },
   "file_extension": ".py",
   "mimetype": "text/x-python",
   "name": "python",
   "nbconvert_exporter": "python",
   "pygments_lexer": "ipython2",
   "version": "2.7.6"
  }
 },
 "nbformat": 4,
 "nbformat_minor": 5
}
