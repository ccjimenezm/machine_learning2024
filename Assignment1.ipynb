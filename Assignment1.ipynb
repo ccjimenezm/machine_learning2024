{
  "nbformat": 4,
  "nbformat_minor": 0,
  "metadata": {
    "colab": {
      "provenance": [],
      "include_colab_link": true
    },
    "kernelspec": {
      "name": "python3",
      "display_name": "Python 3"
    },
    "language_info": {
      "name": "python"
    }
  },
  "cells": [
    {
      "cell_type": "markdown",
      "metadata": {
        "id": "view-in-github",
        "colab_type": "text"
      },
      "source": [
        "<a href=\"https://colab.research.google.com/github/ccjimenezm/machine_learning2024/blob/main/Assignment1.ipynb\" target=\"_parent\"><img src=\"https://colab.research.google.com/assets/colab-badge.svg\" alt=\"Open In Colab\"/></a>"
      ]
    },
    {
      "cell_type": "markdown",
      "source": [
        "# Assignment 1\n",
        "### Jesús Daniel Caballero Colina\n",
        "### Farid Alexis Estepa\n",
        "### Cristian Jimenez"
      ],
      "metadata": {
        "id": "S7S9180yb4P8"
      }
    },
    {
      "cell_type": "markdown",
      "source": [
        "## Enunciado punto 1\n",
        "<ol type=\"a\" start=\"1\">\n",
        "  <li>Download the Abalone dataset. The dataset has one categorical attribute sex, and 8 numerical attributes. Original goal is to predict the rings attribute, which is a regression problem. For this assignment we will do two changes:\n",
        "  <ol type=\"i\">\n",
        "  <li>We will ignore the sex attribute.</li>\n",
        "  <li>We will convert the rings attribute in a binary class label ringClass, such that ringClass = 1 if rings ≥ rings and ringClass = 0 otherwise, where rings is the average value of rings for the whole dataset.</li>\n",
        "  </ol></li>\n",
        "</ol>"
      ],
      "metadata": {
        "id": "yFciCrD_cMmK"
      }
    },
    {
      "cell_type": "code",
      "source": [
        "!pip install ucimlrepo"
      ],
      "metadata": {
        "colab": {
          "base_uri": "https://localhost:8080/"
        },
        "id": "mJlSzNkdikaa",
        "outputId": "5914872d-bae4-4931-f680-127a4b9193a5"
      },
      "execution_count": null,
      "outputs": [
        {
          "output_type": "stream",
          "name": "stdout",
          "text": [
            "Requirement already satisfied: ucimlrepo in /usr/local/lib/python3.10/dist-packages (0.0.6)\n"
          ]
        }
      ]
    },
    {
      "cell_type": "code",
      "source": [
        "from ucimlrepo import fetch_ucirepo\n",
        "from sklearn.model_selection import train_test_split\n",
        "from scipy.stats import norm\n",
        "from sklearn.metrics import accuracy_score, precision_score, recall_score\n",
        "import matplotlib.pyplot as plt\n",
        "import numpy as np\n",
        "\n",
        "# fetch dataset\n",
        "abalone = fetch_ucirepo(id=1)\n",
        "\n",
        "# FIST CHANGE\n",
        "# Ignore sex column\n",
        "abalone.data.features = abalone.data.features.drop('Sex', axis=1)\n",
        "\n",
        "# SECOND CHANGE\n",
        "# Calculate the average value of 'rings'\n",
        "average_rings = abalone.data.targets.mean()\n",
        "# Create a new column 'ringClass'\n",
        "abalone.data.targets.insert(loc=0, column='ringClass', value=(abalone.data.targets >= average_rings).astype(int))\n",
        "abalone.data.targets = abalone.data.targets.drop('Rings', axis=1)"
      ],
      "metadata": {
        "id": "Lxl1aPCedzmu"
      },
      "execution_count": null,
      "outputs": []
    },
    {
      "cell_type": "markdown",
      "source": [
        "<ol type=\"a\" start=\"2\">\n",
        "  <li>Load and process the the dataset to obtain two numpy arrays X and y, with the input features and the class label respectively.</li>\n",
        "</ol>"
      ],
      "metadata": {
        "id": "YzISqw7zhI1I"
      }
    },
    {
      "cell_type": "code",
      "source": [
        "# data (as pandas dataframes)\n",
        "X = abalone.data.features.to_numpy()\n",
        "y = abalone.data.targets.to_numpy()\n",
        "\n",
        "print(X)\n",
        "print(y)"
      ],
      "metadata": {
        "colab": {
          "base_uri": "https://localhost:8080/"
        },
        "id": "QqLDBO3SjsCP",
        "outputId": "ffaee95d-0307-40b2-9679-3d18511a0377"
      },
      "execution_count": null,
      "outputs": [
        {
          "output_type": "stream",
          "name": "stdout",
          "text": [
            "[[0.455  0.365  0.095  ... 0.2245 0.101  0.15  ]\n",
            " [0.35   0.265  0.09   ... 0.0995 0.0485 0.07  ]\n",
            " [0.53   0.42   0.135  ... 0.2565 0.1415 0.21  ]\n",
            " ...\n",
            " [0.6    0.475  0.205  ... 0.5255 0.2875 0.308 ]\n",
            " [0.625  0.485  0.15   ... 0.531  0.261  0.296 ]\n",
            " [0.71   0.555  0.195  ... 0.9455 0.3765 0.495 ]]\n",
            "[[1]\n",
            " [0]\n",
            " [0]\n",
            " ...\n",
            " [0]\n",
            " [1]\n",
            " [1]]\n"
          ]
        }
      ]
    },
    {
      "cell_type": "markdown",
      "source": [
        "<ol type=\"a\" start=\"3\">\n",
        "  <li>Split the dataset in training and validation using the following scikit-learn command: train_test_split(X, y, test_size=0.33, random_state=42 where X and y are the input features and labels respectively.</li>\n",
        "</ol>"
      ],
      "metadata": {
        "id": "RYUG1jQyhQQm"
      }
    },
    {
      "cell_type": "code",
      "source": [
        "X_train, X_test, y_train, y_test = train_test_split(X, y, test_size=0.33, random_state=42)"
      ],
      "metadata": {
        "id": "l-gkopjzk6e8"
      },
      "execution_count": null,
      "outputs": []
    },
    {
      "cell_type": "markdown",
      "source": [
        "<ol type=\"a\" start=\"4\">\n",
        "  <li>For each one of the 7 input features build a univariate Gaussian classifier estimating the parameters using the training dataset and evaluating the classifier in the validation dataset. For each classifier write down the parameters. Report accuracy, precision and recall. Which classifier is the best? For this classifier draw the curves for the posterior distribution for each class and show where the decision boundary is.</li>\n",
        "</ol>"
      ],
      "metadata": {
        "id": "KgX-tnWqhS8P"
      }
    },
    {
      "cell_type": "code",
      "source": [
        "# Initialize a dictionary to hold the Gaussian classifiers for each feature\n",
        "gaussian_classifiers0 = []\n",
        "gaussian_classifiers1 = []\n",
        "accuracy_scores = []\n",
        "precision_scores = []\n",
        "recall_scores = []\n",
        "\n",
        "# For each feature in the training set\n",
        "for i in range(len(abalone.data.features.columns)):\n",
        "  # Estimate the parameters (mean and standard deviation) of the Gaussian distribution\n",
        "  x_values = X_train[:,i]\n",
        "  mean = [x_values[y_train.reshape(-1)==0].mean(),x_values[y_train.reshape(-1)==1].mean()]\n",
        "  std = [x_values[y_train.reshape(-1)==0].std(),x_values[y_train.reshape(-1)==1].std()]\n",
        "  # Build the univariate Gaussian classifier\n",
        "  gaussian_classifier0 = norm(loc=mean[0], scale=std[0])\n",
        "  gaussian_classifier1 = norm(loc=mean[1], scale=std[1])\n",
        "  gaussian_classifiers0.append(gaussian_classifier0)\n",
        "  gaussian_classifiers1.append(gaussian_classifier1)\n",
        "\n",
        "  # Now, we can use these classifiers to make predictions on the validation set\n",
        "  # For each feature in the validation set\n",
        "  # Use the classifier to make predictions on the validation set\n",
        "  probabilities0 = gaussian_classifier0.pdf(X_test[:,i])\n",
        "  probabilities1 = gaussian_classifier1.pdf(X_test[:,i])\n",
        "  # Here, `predictions` is a numpy array containing the predicted probabilities for each instance in the validation set\n",
        "  # You can then use these probabilities to make class predictions, evaluate the classifier, etc.\n",
        "  predictions = (probabilities1 >= probabilities0).astype(int)\n",
        "  # Calculate accuracy, precision, and recall\n",
        "  accuracy = accuracy_score(y_test, predictions)\n",
        "  precision = precision_score(y_test, predictions)\n",
        "  recall = recall_score(y_test, predictions)\n",
        "\n",
        "  accuracy_scores.append(accuracy)\n",
        "  precision_scores.append(precision)\n",
        "  recall_scores.append(recall)\n",
        "  # Report the metrics\n",
        "  print(f\"Feature: {abalone.data.features.columns[i]}\")\n",
        "  print(f\"Classifier class 0 - Mean : {gaussian_classifier0.mean()}, Std : {gaussian_classifier0.std()}\")\n",
        "  print(f\"Classifier class 1 - Mean : {gaussian_classifier1.mean()}, Std : {gaussian_classifier1.std()}\")\n",
        "  print(f\"Accuracy: {accuracy}, Precision: {precision}, Recall: {recall}\")\n",
        "  print(\"\")"
      ],
      "metadata": {
        "colab": {
          "base_uri": "https://localhost:8080/"
        },
        "id": "iD031Av2fEgA",
        "outputId": "d3df0067-344b-41fd-ecb4-eb4f6c93a2f8"
      },
      "execution_count": null,
      "outputs": [
        {
          "output_type": "stream",
          "name": "stdout",
          "text": [
            "Feature: Length\n",
            "Classifier class 0 - Mean : 0.46394300144300143, Std : 0.11819095909489254\n",
            "Classifier class 1 - Mean : 0.5870007082152975, Std : 0.08464524787704851\n",
            "Accuracy: 0.7157360406091371, Precision: 0.6720496894409937, Recall: 0.8086696562032885\n",
            "\n",
            "Feature: Diameter\n",
            "Classifier class 0 - Mean : 0.3568650793650794, Std : 0.09679422756065036\n",
            "Classifier class 1 - Mean : 0.4611827195467422, Std : 0.06950591950231186\n",
            "Accuracy: 0.7266134880348079, Precision: 0.6802469135802469, Recall: 0.8236173393124065\n",
            "\n",
            "Feature: Height\n",
            "Classifier class 0 - Mean : 0.11909451659451659, Std : 0.04415380943566684\n",
            "Classifier class 1 - Mean : 0.16072946175637395, Std : 0.029026322116847213\n",
            "Accuracy: 0.7440174039158811, Precision: 0.6955445544554455, Recall: 0.8400597907324364\n",
            "\n",
            "Feature: Whole_weight\n",
            "Classifier class 0 - Mean : 0.574403318903319, Std : 0.3826570729229506\n",
            "Classifier class 1 - Mean : 1.0931738668555242, Std : 0.45249481674655445\n",
            "Accuracy: 0.7258883248730964, Precision: 0.7412935323383084, Recall: 0.6681614349775785\n",
            "\n",
            "Feature: Shucked_weight\n",
            "Classifier class 0 - Mean : 0.26276118326118325, Std : 0.1846348898059758\n",
            "Classifier class 1 - Mean : 0.4613601274787535, Std : 0.21578117624921897\n",
            "Accuracy: 0.6700507614213198, Precision: 0.6897163120567376, Recall: 0.5814648729446936\n",
            "\n",
            "Feature: Viscera_weight\n",
            "Classifier class 0 - Mean : 0.1255551948051948, Std : 0.08673800563561021\n",
            "Classifier class 1 - Mean : 0.2378186968838527, Std : 0.10045285945841816\n",
            "Accuracy: 0.7092095721537346, Precision: 0.7326388888888888, Recall: 0.6307922272047832\n",
            "\n",
            "Feature: Shell_weight\n",
            "Classifier class 0 - Mean : 0.1601432178932179, Std : 0.10081210044860771\n",
            "Classifier class 1 - Mean : 0.3209904390934844, Std : 0.12844906487377014\n",
            "Accuracy: 0.7599709934735316, Precision: 0.7770491803278688, Recall: 0.7085201793721974\n",
            "\n"
          ]
        }
      ]
    },
    {
      "cell_type": "code",
      "source": [
        "# Find the feature with the highest accuracy\n",
        "index_max = np.argmax(accuracy_scores)\n",
        "print(f\"Feature with highest accuracy: {abalone.data.features.columns[index_max]}, Accuracy: {accuracy_scores[index_max]}\")\n",
        "# Find the feature with the highest precision\n",
        "index_max = np.argmax(precision_scores)\n",
        "print(f\"Feature with highest precision: {abalone.data.features.columns[index_max]}, Precision: {precision_scores[index_max]}\")\n",
        "# Find the feature with the highest recall\n",
        "index_max = np.argmax(recall_scores)\n",
        "print(f\"Feature with highest recall: {abalone.data.features.columns[index_max]}, Recall: {recall_scores[index_max]}\")"
      ],
      "metadata": {
        "colab": {
          "base_uri": "https://localhost:8080/"
        },
        "id": "WPItNgH8gImF",
        "outputId": "049aec8d-71de-4369-82ba-e63e55c91fa6"
      },
      "execution_count": null,
      "outputs": [
        {
          "output_type": "stream",
          "name": "stdout",
          "text": [
            "Feature with highest accuracy: Shell_weight, Accuracy: 0.7599709934735316\n",
            "Feature with highest precision: Shell_weight, Precision: 0.7770491803278688\n",
            "Feature with highest recall: Height, Recall: 0.8400597907324364\n"
          ]
        }
      ]
    },
    {
      "cell_type": "markdown",
      "source": [
        "We selected the _Shell\\_weight_ feature because it has the best accuracy and precision, and it also has a high recall."
      ],
      "metadata": {
        "id": "2EiwsowUx2WX"
      }
    },
    {
      "cell_type": "code",
      "source": [
        "# Get the Gaussian classifier for the 'length' feature\n",
        "index = 4\n",
        "feature = abalone.data.features.columns[index]\n",
        "\n",
        "# Calculate the pdfs for the two classes\n",
        "x_values = np.linspace(X_train[:,index].min(), X_train[:,index].max(), 1000)\n",
        "pdf_class_0 = gaussian_classifiers0[index].pdf(x_values)\n",
        "pdf_class_1 = gaussian_classifiers1[index].pdf(x_values)\n",
        "\n",
        "# Find the decision boundary (where the two pdfs cross)\n",
        "asign = np.sign(pdf_class_0-pdf_class_1)\n",
        "decision_boundary = x_values[(np.roll(asign, 1) - asign) != 0]\n",
        "# Plot the pdfs\n",
        "plt.plot(x_values, pdf_class_0, label='Class 0')\n",
        "plt.plot(x_values, pdf_class_1, label='Class 1')\n",
        "# Plot the decision boundary\n",
        "for i in decision_boundary:\n",
        "  plt.axvline(i, color='red', linestyle='--')\n",
        "# Add labels and legend\n",
        "plt.xlabel(feature)\n",
        "plt.ylabel('PDF')\n",
        "plt.legend()\n",
        "# Show the plot\n",
        "plt.show()"
      ],
      "metadata": {
        "colab": {
          "base_uri": "https://localhost:8080/",
          "height": 450
        },
        "id": "ZmVjpoAigKpg",
        "outputId": "8f08a519-7887-40c4-90ed-982773fce059"
      },
      "execution_count": null,
      "outputs": [
        {
          "output_type": "display_data",
          "data": {
            "text/plain": [
              "<Figure size 640x480 with 1 Axes>"
            ],
            "image/png": "[encoded data removed]"
          },
          "metadata": {}
        }
      ]
    },
    {
      "cell_type": "markdown",
      "source": [
        "## Enunciado punto 2\n",
        "\n",
        "<ol type=\"a\" start=\"1\">\n",
        "  <li>In this question, you will take all the combinations of pair of features. For each pair of features you will model the classes as bivariate Gaussian distributions with a covariance matrix Σ = Iσ, where σ is a scalar, shared by all the classes. This is, the distribution for each class has a different mean but the same covariance matrix.</li>\n",
        "</ol>"
      ],
      "metadata": {
        "id": "H7_30Calq5Rv"
      }
    },
    {
      "cell_type": "code",
      "source": [
        "from scipy.stats import multivariate_normal\n",
        "from itertools import combinations\n",
        "# Get all combinations of pair of features\n",
        "feature_pairs = combinations(range(len(abalone.data.features.columns)), 2)\n",
        "# Initialize a dictionary to hold the Gaussian classifiers for each pair of features\n",
        "gaussian_classifiers = {}\n",
        "# Calculate the standard deviation for the covariance matrix\n",
        "sigma = X_train.std().mean()\n",
        "accuracy_scores = {}\n",
        "precision_scores = {}\n",
        "recall_scores = {}\n",
        "\n",
        "# For each pair of features in the training set\n",
        "for pair in feature_pairs:\n",
        "  # Initialize a dictionary to hold the Gaussian classifiers for each class\n",
        "  gaussian_classifiers[pair] = {}\n",
        "  accuracy_scores[pair] = {}\n",
        "  precision_scores[pair] = {}\n",
        "  recall_scores[pair] = {}\n",
        "\n",
        "  # Calculate covariance matrix\n",
        "  x1 = X_train[:,pair[0]]\n",
        "  x2 = X_train[:,pair[1]]\n",
        "  sum_ = [[x1.std(),0],[0,x2.std()]]\n",
        "  sum_ = sigma*np.eye(2)\n",
        "  means = []\n",
        "  # For each class\n",
        "  for class_label in np.unique(y_train):\n",
        "    # Get the instances of the current class\n",
        "    instances = X_train[y_train.reshape(-1) == class_label]\n",
        "    # Estimate the parameters (mean) of the Gaussian distribution for each feature\n",
        "    mean = [instances[pair[0]].mean(),instances[pair[1]].mean()]\n",
        "    means.append(mean)\n",
        "    # Build the bivariate Gaussian classifier with the same covariance matrix for all classes\n",
        "    gaussian_classifiers[pair][class_label] = multivariate_normal(mean=mean, cov=sum_)\n",
        "\n",
        "  probabilities0 = gaussian_classifiers[pair][0].pdf(X_test[:,list(pair)])\n",
        "  probabilities1 = gaussian_classifiers[pair][1].pdf(X_test[:,list(pair)])\n",
        "  # Here, `predictions` is a numpy array containing the predicted probabilities for each instance in the validation set\n",
        "  # You can then use these probabilities to make class predictions, evaluate the classifier, etc.\n",
        "  predictions = (probabilities1 >= probabilities0).astype(int)\n",
        "\n",
        "  # Calculate accuracy, precision, and recall\n",
        "  accuracy = accuracy_score(y_test, predictions)\n",
        "  precision = precision_score(y_test, predictions)\n",
        "  recall = recall_score(y_test, predictions)\n",
        "  accuracy_scores[pair] = accuracy\n",
        "  precision_scores[pair] = precision\n",
        "  recall_scores[pair] = recall\n",
        "\n",
        "  # Report the metrics\n",
        "  print(f\"Features: ({abalone.data.features.columns[pair[0]]},{abalone.data.features.columns[pair[1]]})\")\n",
        "  print(f\"Classifier class 0 - Mean : {means[0]}, Std : {sigma}\")\n",
        "  print(f\"Classifier class 1 - Mean : {means[1]}, Std : {sigma}\")\n",
        "  print(f\"Accuracy: {accuracy}, Precision: {precision}, Recall: {recall}\")\n",
        "  print(\"\")"
      ],
      "metadata": {
        "colab": {
          "base_uri": "https://localhost:8080/"
        },
        "id": "mZEHViaagUiJ",
        "outputId": "e1d00bb1-c628-4cd5-dd12-c6bcb713dcac"
      },
      "execution_count": null,
      "outputs": [
        {
          "output_type": "stream",
          "name": "stdout",
          "text": [
            "Features: (Length,Diameter)\n",
            "Classifier class 0 - Mean : [0.32142857142857134, 0.2592857142857143], Std : 0.3156446720705451\n",
            "Classifier class 1 - Mean : [0.36407142857142855, 0.39207142857142857], Std : 0.3156446720705451\n",
            "Accuracy: 0.6330674401740392, Precision: 0.5714285714285714, Recall: 0.9745889387144993\n",
            "\n",
            "Features: (Length,Height)\n",
            "Classifier class 0 - Mean : [0.32142857142857134, 0.2312857142857143], Std : 0.3156446720705451\n",
            "Classifier class 1 - Mean : [0.36407142857142855, 0.7005714285714285], Std : 0.3156446720705451\n",
            "Accuracy: 0.5155910079767948, Precision: 1.0, Recall: 0.0014947683109118087\n",
            "\n",
            "Features: (Length,Whole_weight)\n",
            "Classifier class 0 - Mean : [0.32142857142857134, 0.4288571428571428], Std : 0.3156446720705451\n",
            "Classifier class 1 - Mean : [0.36407142857142855, 0.45428571428571424], Std : 0.3156446720705451\n",
            "Accuracy: 0.6410442349528644, Precision: 0.5774021352313167, Recall: 0.9701046337817638\n",
            "\n",
            "Features: (Length,Shucked_weight)\n",
            "Classifier class 0 - Mean : [0.32142857142857134, 0.1955], Std : 0.3156446720705451\n",
            "Classifier class 1 - Mean : [0.36407142857142855, 0.5845714285714285], Std : 0.3156446720705451\n",
            "Accuracy: 0.6881798404641044, Precision: 0.6962233169129721, Recall: 0.6337817638266069\n",
            "\n",
            "Features: (Length,Viscera_weight)\n",
            "Classifier class 0 - Mean : [0.32142857142857134, 0.18164285714285716], Std : 0.3156446720705451\n",
            "Classifier class 1 - Mean : [0.36407142857142855, 0.6073571428571428], Std : 0.3156446720705451\n",
            "Accuracy: 0.574329224075417, Precision: 0.9555555555555556, Recall: 0.12855007473841554\n",
            "\n",
            "Features: (Length,Shell_weight)\n",
            "Classifier class 0 - Mean : [0.32142857142857134, 0.22392857142857145], Std : 0.3156446720705451\n",
            "Classifier class 1 - Mean : [0.36407142857142855, 0.35085714285714287], Std : 0.3156446720705451\n",
            "Accuracy: 0.7454677302393038, Precision: 0.7252124645892352, Recall: 0.7653213751868461\n",
            "\n",
            "Features: (Diameter,Height)\n",
            "Classifier class 0 - Mean : [0.2592857142857143, 0.2312857142857143], Std : 0.3156446720705451\n",
            "Classifier class 1 - Mean : [0.39207142857142857, 0.7005714285714285], Std : 0.3156446720705451\n",
            "Accuracy: 0.5155910079767948, Precision: 1.0, Recall: 0.0014947683109118087\n",
            "\n",
            "Features: (Diameter,Whole_weight)\n",
            "Classifier class 0 - Mean : [0.2592857142857143, 0.4288571428571428], Std : 0.3156446720705451\n",
            "Classifier class 1 - Mean : [0.39207142857142857, 0.45428571428571424], Std : 0.3156446720705451\n",
            "Accuracy: 0.659173313995649, Precision: 0.5923862581244197, Recall: 0.953662182361734\n",
            "\n",
            "Features: (Diameter,Shucked_weight)\n",
            "Classifier class 0 - Mean : [0.2592857142857143, 0.1955], Std : 0.3156446720705451\n",
            "Classifier class 1 - Mean : [0.39207142857142857, 0.5845714285714285], Std : 0.3156446720705451\n",
            "Accuracy: 0.6918056562726613, Precision: 0.692429022082019, Recall: 0.656203288490284\n",
            "\n",
            "Features: (Diameter,Viscera_weight)\n",
            "Classifier class 0 - Mean : [0.2592857142857143, 0.18164285714285716], Std : 0.3156446720705451\n",
            "Classifier class 1 - Mean : [0.39207142857142857, 0.6073571428571428], Std : 0.3156446720705451\n",
            "Accuracy: 0.5910079767947788, Precision: 0.9411764705882353, Recall: 0.16741405082212257\n",
            "\n",
            "Features: (Diameter,Shell_weight)\n",
            "Classifier class 0 - Mean : [0.2592857142857143, 0.22392857142857145], Std : 0.3156446720705451\n",
            "Classifier class 1 - Mean : [0.39207142857142857, 0.35085714285714287], Std : 0.3156446720705451\n",
            "Accuracy: 0.7440174039158811, Precision: 0.7046632124352331, Recall: 0.8131539611360239\n",
            "\n",
            "Features: (Height,Whole_weight)\n",
            "Classifier class 0 - Mean : [0.2312857142857143, 0.4288571428571428], Std : 0.3156446720705451\n",
            "Classifier class 1 - Mean : [0.7005714285714285, 0.45428571428571424], Std : 0.3156446720705451\n",
            "Accuracy: 0.5155910079767948, Precision: 1.0, Recall: 0.0014947683109118087\n",
            "\n",
            "Features: (Height,Shucked_weight)\n",
            "Classifier class 0 - Mean : [0.2312857142857143, 0.1955], Std : 0.3156446720705451\n",
            "Classifier class 1 - Mean : [0.7005714285714285, 0.5845714285714285], Std : 0.3156446720705451\n",
            "Accuracy: 0.5547498187092096, Precision: 0.8985507246376812, Recall: 0.09267563527653214\n",
            "\n",
            "Features: (Height,Viscera_weight)\n",
            "Classifier class 0 - Mean : [0.2312857142857143, 0.18164285714285716], Std : 0.3156446720705451\n",
            "Classifier class 1 - Mean : [0.7005714285714285, 0.6073571428571428], Std : 0.3156446720705451\n",
            "Accuracy: 0.5155910079767948, Precision: 1.0, Recall: 0.0014947683109118087\n",
            "\n",
            "Features: (Height,Shell_weight)\n",
            "Classifier class 0 - Mean : [0.2312857142857143, 0.22392857142857145], Std : 0.3156446720705451\n",
            "Classifier class 1 - Mean : [0.7005714285714285, 0.35085714285714287], Std : 0.3156446720705451\n",
            "Accuracy: 0.5155910079767948, Precision: 1.0, Recall: 0.0014947683109118087\n",
            "\n",
            "Features: (Whole_weight,Shucked_weight)\n",
            "Classifier class 0 - Mean : [0.4288571428571428, 0.1955], Std : 0.3156446720705451\n",
            "Classifier class 1 - Mean : [0.45428571428571424, 0.5845714285714285], Std : 0.3156446720705451\n",
            "Accuracy: 0.6903553299492385, Precision: 0.6964285714285714, Recall: 0.6412556053811659\n",
            "\n",
            "Features: (Whole_weight,Viscera_weight)\n",
            "Classifier class 0 - Mean : [0.4288571428571428, 0.18164285714285716], Std : 0.3156446720705451\n",
            "Classifier class 1 - Mean : [0.45428571428571424, 0.6073571428571428], Std : 0.3156446720705451\n",
            "Accuracy: 0.5910079767947788, Precision: 0.9338842975206612, Recall: 0.16890881913303438\n",
            "\n",
            "Features: (Whole_weight,Shell_weight)\n",
            "Classifier class 0 - Mean : [0.4288571428571428, 0.22392857142857145], Std : 0.3156446720705451\n",
            "Classifier class 1 - Mean : [0.45428571428571424, 0.35085714285714287], Std : 0.3156446720705451\n",
            "Accuracy: 0.751269035532995, Precision: 0.7315340909090909, Recall: 0.7698056801195815\n",
            "\n",
            "Features: (Shucked_weight,Viscera_weight)\n",
            "Classifier class 0 - Mean : [0.1955, 0.18164285714285716], Std : 0.3156446720705451\n",
            "Classifier class 1 - Mean : [0.5845714285714285, 0.6073571428571428], Std : 0.3156446720705451\n",
            "Accuracy: 0.6432197244379986, Precision: 0.8062283737024222, Recall: 0.3482810164424514\n",
            "\n",
            "Features: (Shucked_weight,Shell_weight)\n",
            "Classifier class 0 - Mean : [0.1955, 0.22392857142857145], Std : 0.3156446720705451\n",
            "Classifier class 1 - Mean : [0.5845714285714285, 0.35085714285714287], Std : 0.3156446720705451\n",
            "Accuracy: 0.6867295141406816, Precision: 0.7206703910614525, Recall: 0.57847533632287\n",
            "\n",
            "Features: (Viscera_weight,Shell_weight)\n",
            "Classifier class 0 - Mean : [0.18164285714285716, 0.22392857142857145], Std : 0.3156446720705451\n",
            "Classifier class 1 - Mean : [0.6073571428571428, 0.35085714285714287], Std : 0.3156446720705451\n",
            "Accuracy: 0.5786802030456852, Precision: 0.9583333333333334, Recall: 0.1375186846038864\n",
            "\n"
          ]
        }
      ]
    },
    {
      "cell_type": "markdown",
      "source": [
        "<ol type=\"a\" start=\"2\">\n",
        "  <li>For each combination estimate the parameters using the training dataset and evaluate the classifier in the validation dataset. Which combination of parameters obtained the best performance? Report the evaluation results for the best performing combination.</li>\n",
        "</ol>"
      ],
      "metadata": {
        "id": "q3uAzVAYrPml"
      }
    },
    {
      "cell_type": "code",
      "source": [
        "# Find the pair of features with the highest accuracy\n",
        "best_accuracy_pair = max(accuracy_scores, key=accuracy_scores.get)\n",
        "print(f\"Pair of features with highest accuracy: ({abalone.data.features.columns[best_accuracy_pair[0]]},{abalone.data.features.columns[best_accuracy_pair[1]]}), \\\n",
        "  Accuracy: {accuracy_scores[best_accuracy_pair]}\")\n",
        "# Find the pair of features with the highest precision\n",
        "best_precision_pair = max(precision_scores, key=precision_scores.get)\n",
        "print(f\"Pair of features with highest precision: ({abalone.data.features.columns[best_precision_pair[0]]},{abalone.data.features.columns[best_precision_pair[1]]}), \\\n",
        "  Precision: {precision_scores[best_precision_pair]}\")\n",
        "# Find the pair of features with the highest recall\n",
        "best_recall_pair = max(recall_scores, key=recall_scores.get)\n",
        "print(f\"Pair of features with highest recall: ({abalone.data.features.columns[best_recall_pair[0]]},{abalone.data.features.columns[best_recall_pair[1]]}), \\\n",
        "  Recall: {recall_scores[best_recall_pair]}\")"
      ],
      "metadata": {
        "colab": {
          "base_uri": "https://localhost:8080/"
        },
        "id": "xia0WdFCTqFb",
        "outputId": "25bc41cb-89bf-46a6-d7d0-f04fbaa81ea0"
      },
      "execution_count": null,
      "outputs": [
        {
          "output_type": "stream",
          "name": "stdout",
          "text": [
            "Pair of features with highest accuracy: (Whole_weight,Shell_weight),   Accuracy: 0.751269035532995\n",
            "Pair of features with highest precision: (Length,Height),   Precision: 1.0\n",
            "Pair of features with highest recall: (Length,Diameter),   Recall: 0.9745889387144993\n"
          ]
        }
      ]
    },
    {
      "cell_type": "markdown",
      "source": [
        "Features: (Length,Shell_weight)\n",
        "Accuracy: 0.7454677302393038, Precision: 0.7252124645892352, Recall: 0.7653213751868461\n",
        "\n",
        "Features: (Diameter,Shell_weight)\n",
        "Accuracy: 0.7440174039158811, Precision: 0.7046632124352331, Recall: 0.8131539611360239\n",
        "\n",
        "Features: (Whole_weight,Shell_weight)\n",
        "Accuracy: 0.751269035532995, Precision: 0.7315340909090909, Recall: 0.7698056801195815"
      ],
      "metadata": {
        "id": "Dbd_0j6DebqR"
      }
    },
    {
      "cell_type": "markdown",
      "source": [
        "<ol type=\"a\" start=\"3\">\n",
        "  <li>Draw ROC curves for the best performing univariate model (from question 1) and bivariate model. Which model is better? Explain the results.</li>\n",
        "</ol>"
      ],
      "metadata": {
        "id": "AkpeJjYprP28"
      }
    },
    {
      "cell_type": "code",
      "source": [],
      "metadata": {
        "id": "igeNVL2cvUCJ"
      },
      "execution_count": null,
      "outputs": []
    },
    {
      "cell_type": "markdown",
      "source": [
        "## Enunciado punto 3\n",
        "<ol type=\"a\" start=\"1\">\n",
        "  <li>For the best bivariate model (from question 2) draw a plot, where the regions corresponding to the two classes are shown with different colors. A region corresponding to a class is the set of points where the particular class discriminant function is maximum (decision regions, [Alp14] Sect. 3.4).</li>\n",
        "</ol>"
      ],
      "metadata": {
        "id": "3qRbSb4zd1yI"
      }
    },
    {
      "cell_type": "code",
      "source": [],
      "metadata": {
        "id": "eQPxisFevUwJ"
      },
      "execution_count": null,
      "outputs": []
    },
    {
      "cell_type": "markdown",
      "source": [
        "<ol type=\"a\" start=\"2\">\n",
        "  <li>The boundary between class regions must be a line. Calculate the equation of this line clearly explaining the deduction process. Draw the line along with the regions..</li>\n",
        "</ol>"
      ],
      "metadata": {
        "id": "wGgU5dVGtJwU"
      }
    },
    {
      "cell_type": "code",
      "source": [],
      "metadata": {
        "id": "TEt1rIH-vVMV"
      },
      "execution_count": null,
      "outputs": []
    },
    {
      "cell_type": "markdown",
      "source": [
        "## Enunciado punto 4\n",
        "<ol type=\"a\" start=\"1\">\n",
        "  <li>Using the best combination of parameters found in question 2 build a bivariate classifier, but this time the covariance matrix could be an arbitrary matrix (not diagonal) and different for each class.</li>\n",
        "</ol>"
      ],
      "metadata": {
        "id": "IktHa-JPtaDZ"
      }
    },
    {
      "cell_type": "code",
      "source": [],
      "metadata": {
        "id": "3FwFUItTvVyC"
      },
      "execution_count": null,
      "outputs": []
    },
    {
      "cell_type": "markdown",
      "source": [
        "<ol type=\"a\" start=\"2\">\n",
        "  <li> Draw the regions corresponding to each class. Compare with the regions obtained in question 3. Discuss.</li>\n",
        "</ol>"
      ],
      "metadata": {
        "id": "pTNjbSY4tvt4"
      }
    },
    {
      "cell_type": "code",
      "source": [],
      "metadata": {
        "id": "EvySnpL1vWPP"
      },
      "execution_count": null,
      "outputs": []
    },
    {
      "cell_type": "markdown",
      "source": [
        "<ol type=\"a\" start=\"3\">\n",
        "  <li>Add the possibility of rejection to your model. Draw the three regions corresponding to both classes and rejection. Discuss.</li>\n",
        "</ol>"
      ],
      "metadata": {
        "id": "WGyRg05PtwC9"
      }
    },
    {
      "cell_type": "code",
      "source": [],
      "metadata": {
        "id": "IUMtCMCBvWtv"
      },
      "execution_count": null,
      "outputs": []
    }
  ]
}