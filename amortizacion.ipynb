{
 "cells": [
  {
   "cell_type": "code",
   "execution_count": 1,
   "id": "initial_id",
   "metadata": {
    "collapsed": true,
    "ExecuteTime": {
     "end_time": "2025-02-15T14:38:48.578172Z",
     "start_time": "2025-02-15T14:38:48.023228Z"
    }
   },
   "outputs": [],
   "source": [
    "import pandas as pd\n",
    "\n",
    "# Configura pandas para no usar notación científica\n",
    "pd.set_option('display.float_format', '{:.2f}'.format)\n",
    "\n",
    "def calcular_amortizacion(monto, meses, tasa_anual, cobro_fijo, abonos=None, reducir_tiempo=True):\n",
    "    # Calcula la tasa nominal mensual\n",
    "    tasa_mensual = (1 + tasa_anual) ** (1/12) - 1\n",
    "\n",
    "    # Inicializa variables\n",
    "    saldo = monto\n",
    "\n",
    "    # DataFrame para almacenar los resultados\n",
    "    columnas = ['Mes', 'Interes', 'Cobro Fijo', 'Cuota Mensual', 'Capital Restante', 'Capital Pagado']\n",
    "    amortizacion_df = pd.DataFrame(columns=columnas)\n",
    "\n",
    "    # Calcula la cuota mensual sin abonos\n",
    "    cuota_mensual = (saldo * tasa_mensual) / (1 - (1 + tasa_mensual) ** -meses)\n",
    "\n",
    "    mes = 1\n",
    "    while saldo > 0 and mes <= meses:\n",
    "        # Calcula el interés del mes\n",
    "        interes = saldo * tasa_mensual\n",
    "\n",
    "        # Aplica abono si existe\n",
    "        abono = 0\n",
    "        if abonos and mes in abonos:\n",
    "            abono = abonos[mes]\n",
    "            saldo -= abono\n",
    "            if reducir_tiempo:\n",
    "                # Recalcula los meses restantes proporcionalmente al nuevo saldo\n",
    "                meses_reducidos = int((abono / saldo) * meses)\n",
    "                meses -= meses_reducidos\n",
    "            else:\n",
    "                cuota_mensual = (saldo * tasa_mensual) / (1 - (1 + tasa_mensual) ** -(meses - mes))\n",
    "\n",
    "        # Calcula el capital a pagar\n",
    "        capital = cuota_mensual - interes\n",
    "\n",
    "        # Actualiza el saldo\n",
    "        saldo -= capital\n",
    "\n",
    "        # Calcula el total de la cuota mensual\n",
    "        cuota_total = cuota_mensual + cobro_fijo\n",
    "\n",
    "        # Agrega los datos al DataFrame\n",
    "        capital_pagado = capital + abono\n",
    "        amortizacion_df.loc[len(amortizacion_df)] = [mes, interes, cobro_fijo, cuota_total, saldo, capital_pagado]\n",
    "\n",
    "        mes += 1\n",
    "\n",
    "    # Calcula los totales a partir del DataFrame\n",
    "    total_interes_pagado = amortizacion_df['Interes'].sum()\n",
    "    total_pagado = amortizacion_df['Interes'].sum() + amortizacion_df['Capital Pagado'].sum()\n",
    "\n",
    "    # Diccionario con los resultados finales\n",
    "    resultados = {\n",
    "        'dataframe': amortizacion_df,\n",
    "        'total_interes_pagado': total_interes_pagado,\n",
    "        'total_pagado': total_pagado\n",
    "    }\n",
    "\n",
    "    return resultados\n",
    "\n"
   ]
  },
  {
   "cell_type": "code",
   "outputs": [],
   "source": [
    "abonos = {i: 500000 for i in range(1, 25)}\n",
    "prueba = calcular_amortizacion(140000000,240,0.1,60000,abonos)\n"
   ],
   "metadata": {
    "collapsed": false,
    "ExecuteTime": {
     "end_time": "2025-02-15T14:45:10.418209Z",
     "start_time": "2025-02-15T14:45:10.315567Z"
    }
   },
   "id": "32b6940df6ae55de",
   "execution_count": 6
  },
  {
   "cell_type": "code",
   "outputs": [
    {
     "data": {
      "text/plain": "       Mes    Interes  Cobro Fijo  Cuota Mensual  Capital Restante  \\\n0     1.00 1116379.66    60000.00     1371295.36      139305084.30   \n1     2.00 1110838.30    60000.00     1371295.36      138604627.25   \n2     3.00 1105252.76    60000.00     1371295.36      137898584.65   \n3     4.00 1099622.68    60000.00     1371295.36      137186911.97   \n4     5.00 1093947.70    60000.00     1371295.36      136469564.31   \n..     ...        ...         ...            ...               ...   \n189 190.00   47402.77    60000.00     1371295.36        4680669.48   \n190 191.00   37324.32    60000.00     1371295.36        3406698.43   \n191 192.00   27165.49    60000.00     1371295.36        2122568.57   \n192 193.00   16925.66    60000.00     1371295.36         828198.87   \n193 194.00    6604.17    60000.00     1371295.36        -476492.32   \n\n     Capital Pagado  \n0         694915.70  \n1         700457.06  \n2         706042.60  \n3         711672.68  \n4         717347.66  \n..              ...  \n189      1263892.59  \n190      1273971.04  \n191      1284129.87  \n192      1294369.70  \n193      1304691.19  \n\n[194 rows x 6 columns]",
      "text/html": "<div>\n<style scoped>\n    .dataframe tbody tr th:only-of-type {\n        vertical-align: middle;\n    }\n\n    .dataframe tbody tr th {\n        vertical-align: top;\n    }\n\n    .dataframe thead th {\n        text-align: right;\n    }\n</style>\n<table border=\"1\" class=\"dataframe\">\n  <thead>\n    <tr style=\"text-align: right;\">\n      <th></th>\n      <th>Mes</th>\n      <th>Interes</th>\n      <th>Cobro Fijo</th>\n      <th>Cuota Mensual</th>\n      <th>Capital Restante</th>\n      <th>Capital Pagado</th>\n    </tr>\n  </thead>\n  <tbody>\n    <tr>\n      <th>0</th>\n      <td>1.00</td>\n      <td>1116379.66</td>\n      <td>60000.00</td>\n      <td>1371295.36</td>\n      <td>139305084.30</td>\n      <td>694915.70</td>\n    </tr>\n    <tr>\n      <th>1</th>\n      <td>2.00</td>\n      <td>1110838.30</td>\n      <td>60000.00</td>\n      <td>1371295.36</td>\n      <td>138604627.25</td>\n      <td>700457.06</td>\n    </tr>\n    <tr>\n      <th>2</th>\n      <td>3.00</td>\n      <td>1105252.76</td>\n      <td>60000.00</td>\n      <td>1371295.36</td>\n      <td>137898584.65</td>\n      <td>706042.60</td>\n    </tr>\n    <tr>\n      <th>3</th>\n      <td>4.00</td>\n      <td>1099622.68</td>\n      <td>60000.00</td>\n      <td>1371295.36</td>\n      <td>137186911.97</td>\n      <td>711672.68</td>\n    </tr>\n    <tr>\n      <th>4</th>\n      <td>5.00</td>\n      <td>1093947.70</td>\n      <td>60000.00</td>\n      <td>1371295.36</td>\n      <td>136469564.31</td>\n      <td>717347.66</td>\n    </tr>\n    <tr>\n      <th>...</th>\n      <td>...</td>\n      <td>...</td>\n      <td>...</td>\n      <td>...</td>\n      <td>...</td>\n      <td>...</td>\n    </tr>\n    <tr>\n      <th>189</th>\n      <td>190.00</td>\n      <td>47402.77</td>\n      <td>60000.00</td>\n      <td>1371295.36</td>\n      <td>4680669.48</td>\n      <td>1263892.59</td>\n    </tr>\n    <tr>\n      <th>190</th>\n      <td>191.00</td>\n      <td>37324.32</td>\n      <td>60000.00</td>\n      <td>1371295.36</td>\n      <td>3406698.43</td>\n      <td>1273971.04</td>\n    </tr>\n    <tr>\n      <th>191</th>\n      <td>192.00</td>\n      <td>27165.49</td>\n      <td>60000.00</td>\n      <td>1371295.36</td>\n      <td>2122568.57</td>\n      <td>1284129.87</td>\n    </tr>\n    <tr>\n      <th>192</th>\n      <td>193.00</td>\n      <td>16925.66</td>\n      <td>60000.00</td>\n      <td>1371295.36</td>\n      <td>828198.87</td>\n      <td>1294369.70</td>\n    </tr>\n    <tr>\n      <th>193</th>\n      <td>194.00</td>\n      <td>6604.17</td>\n      <td>60000.00</td>\n      <td>1371295.36</td>\n      <td>-476492.32</td>\n      <td>1304691.19</td>\n    </tr>\n  </tbody>\n</table>\n<p>194 rows × 6 columns</p>\n</div>"
     },
     "execution_count": 7,
     "metadata": {},
     "output_type": "execute_result"
    }
   ],
   "source": [
    "prueba['dataframe']"
   ],
   "metadata": {
    "collapsed": false,
    "ExecuteTime": {
     "end_time": "2025-02-15T14:45:13.587215Z",
     "start_time": "2025-02-15T14:45:13.565039Z"
    }
   },
   "id": "cb5f98f6404a4c00",
   "execution_count": 7
  },
  {
   "cell_type": "code",
   "outputs": [
    {
     "name": "stdout",
     "output_type": "stream",
     "text": [
      "201232156.95113638 405585302.2222606\n"
     ]
    }
   ],
   "source": [
    "print(prueba['total_interes_pagado'],prueba['total_pagado'])"
   ],
   "metadata": {
    "collapsed": false,
    "ExecuteTime": {
     "end_time": "2025-02-14T21:50:30.959264Z",
     "start_time": "2025-02-14T21:50:30.951875Z"
    }
   },
   "id": "7887aea165627e98",
   "execution_count": 19
  },
  {
   "cell_type": "code",
   "outputs": [],
   "source": [
    "abonos = {i: 1000000 for i in range(1, 25)}\n",
    "prueba = calcular_amortizacion(190000000,240,0.1,60000)"
   ],
   "metadata": {
    "collapsed": false,
    "ExecuteTime": {
     "end_time": "2025-02-15T00:10:44.743951Z",
     "start_time": "2025-02-15T00:10:44.606868Z"
    }
   },
   "id": "4f6de285107457d4",
   "execution_count": 27
  },
  {
   "cell_type": "code",
   "outputs": [
    {
     "data": {
      "text/plain": "       Mes    Interes  Cobro Fijo  Cuota Mensual  Capital Restante  \\\n0     1.00 1515086.68    60000.00     1839615.13      189735471.55   \n1     2.00 1512977.29    60000.00     1839615.13      189468833.71   \n2     3.00 1510851.09    60000.00     1839615.13      189200069.67   \n3     4.00 1508707.92    60000.00     1839615.13      188929162.46   \n4     5.00 1506547.67    60000.00     1839615.13      188656095.00   \n..     ...        ...         ...            ...               ...   \n235 236.00   69288.19    60000.00     1839615.13        6978783.54   \n236 237.00   55649.80    60000.00     1839615.13        5254818.20   \n237 238.00   41902.66    60000.00     1839615.13        3517105.73   \n238 239.00   28045.90    60000.00     1839615.13        1765536.50   \n239 240.00   14078.64    60000.00     1839615.13              0.00   \n\n     Capital Pagado  \n0         264528.45  \n1         266637.84  \n2         268764.04  \n3         270907.21  \n4         273067.46  \n..              ...  \n235      1710326.94  \n236      1723965.33  \n237      1737712.47  \n238      1751569.24  \n239      1765536.50  \n\n[240 rows x 6 columns]",
      "text/html": "<div>\n<style scoped>\n    .dataframe tbody tr th:only-of-type {\n        vertical-align: middle;\n    }\n\n    .dataframe tbody tr th {\n        vertical-align: top;\n    }\n\n    .dataframe thead th {\n        text-align: right;\n    }\n</style>\n<table border=\"1\" class=\"dataframe\">\n  <thead>\n    <tr style=\"text-align: right;\">\n      <th></th>\n      <th>Mes</th>\n      <th>Interes</th>\n      <th>Cobro Fijo</th>\n      <th>Cuota Mensual</th>\n      <th>Capital Restante</th>\n      <th>Capital Pagado</th>\n    </tr>\n  </thead>\n  <tbody>\n    <tr>\n      <th>0</th>\n      <td>1.00</td>\n      <td>1515086.68</td>\n      <td>60000.00</td>\n      <td>1839615.13</td>\n      <td>189735471.55</td>\n      <td>264528.45</td>\n    </tr>\n    <tr>\n      <th>1</th>\n      <td>2.00</td>\n      <td>1512977.29</td>\n      <td>60000.00</td>\n      <td>1839615.13</td>\n      <td>189468833.71</td>\n      <td>266637.84</td>\n    </tr>\n    <tr>\n      <th>2</th>\n      <td>3.00</td>\n      <td>1510851.09</td>\n      <td>60000.00</td>\n      <td>1839615.13</td>\n      <td>189200069.67</td>\n      <td>268764.04</td>\n    </tr>\n    <tr>\n      <th>3</th>\n      <td>4.00</td>\n      <td>1508707.92</td>\n      <td>60000.00</td>\n      <td>1839615.13</td>\n      <td>188929162.46</td>\n      <td>270907.21</td>\n    </tr>\n    <tr>\n      <th>4</th>\n      <td>5.00</td>\n      <td>1506547.67</td>\n      <td>60000.00</td>\n      <td>1839615.13</td>\n      <td>188656095.00</td>\n      <td>273067.46</td>\n    </tr>\n    <tr>\n      <th>...</th>\n      <td>...</td>\n      <td>...</td>\n      <td>...</td>\n      <td>...</td>\n      <td>...</td>\n      <td>...</td>\n    </tr>\n    <tr>\n      <th>235</th>\n      <td>236.00</td>\n      <td>69288.19</td>\n      <td>60000.00</td>\n      <td>1839615.13</td>\n      <td>6978783.54</td>\n      <td>1710326.94</td>\n    </tr>\n    <tr>\n      <th>236</th>\n      <td>237.00</td>\n      <td>55649.80</td>\n      <td>60000.00</td>\n      <td>1839615.13</td>\n      <td>5254818.20</td>\n      <td>1723965.33</td>\n    </tr>\n    <tr>\n      <th>237</th>\n      <td>238.00</td>\n      <td>41902.66</td>\n      <td>60000.00</td>\n      <td>1839615.13</td>\n      <td>3517105.73</td>\n      <td>1737712.47</td>\n    </tr>\n    <tr>\n      <th>238</th>\n      <td>239.00</td>\n      <td>28045.90</td>\n      <td>60000.00</td>\n      <td>1839615.13</td>\n      <td>1765536.50</td>\n      <td>1751569.24</td>\n    </tr>\n    <tr>\n      <th>239</th>\n      <td>240.00</td>\n      <td>14078.64</td>\n      <td>60000.00</td>\n      <td>1839615.13</td>\n      <td>0.00</td>\n      <td>1765536.50</td>\n    </tr>\n  </tbody>\n</table>\n<p>240 rows × 6 columns</p>\n</div>"
     },
     "execution_count": 28,
     "metadata": {},
     "output_type": "execute_result"
    }
   ],
   "source": [
    "prueba['dataframe']"
   ],
   "metadata": {
    "collapsed": false,
    "ExecuteTime": {
     "end_time": "2025-02-15T00:10:45.001863Z",
     "start_time": "2025-02-15T00:10:44.990383Z"
    }
   },
   "id": "17e8f9058760147d",
   "execution_count": 28
  },
  {
   "cell_type": "code",
   "outputs": [
    {
     "name": "stdout",
     "output_type": "stream",
     "text": [
      "340686228.35255027 613686228.3525503\n"
     ]
    }
   ],
   "source": [
    "print(prueba['total_interes_pagado'],prueba['total_pagado'])"
   ],
   "metadata": {
    "collapsed": false,
    "ExecuteTime": {
     "end_time": "2025-02-14T23:12:58.729867Z",
     "start_time": "2025-02-14T23:12:58.724201Z"
    }
   },
   "id": "cb6f6beb17cd76a7",
   "execution_count": 22
  },
  {
   "cell_type": "code",
   "outputs": [
    {
     "data": {
      "text/plain": "240"
     },
     "execution_count": 34,
     "metadata": {},
     "output_type": "execute_result"
    }
   ],
   "source": [],
   "metadata": {
    "collapsed": false,
    "ExecuteTime": {
     "end_time": "2025-02-13T01:28:37.598821Z",
     "start_time": "2025-02-13T01:28:37.592177Z"
    }
   },
   "id": "9fdef9e38878c22f",
   "execution_count": 34
  },
  {
   "cell_type": "code",
   "outputs": [],
   "source": [],
   "metadata": {
    "collapsed": false
   },
   "id": "a43863dfc5729b6d"
  }
 ],
 "metadata": {
  "kernelspec": {
   "display_name": "Python 3",
   "language": "python",
   "name": "python3"
  },
  "language_info": {
   "codemirror_mode": {
    "name": "ipython",
    "version": 2
   },
   "file_extension": ".py",
   "mimetype": "text/x-python",
   "name": "python",
   "nbconvert_exporter": "python",
   "pygments_lexer": "ipython2",
   "version": "2.7.6"
  }
 },
 "nbformat": 4,
 "nbformat_minor": 5
}
