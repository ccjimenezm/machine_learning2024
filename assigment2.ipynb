{
 "cells": [
  {
   "metadata": {},
   "cell_type": "markdown",
   "source": [
    "1. Train an SVM for detecting whether a word belongs to English or Spanish.\n",
    "\n",
    "a.  Build training and test data sets. You can use the most frequent words in http://\n",
    "en.wiktionary.org/wiki/Wiktionary:Frequency_lists. Consider words at least 4\n",
    "characters long and ignore accents."
   ],
   "id": "8d999902432ce871"
  },
  {
   "metadata": {},
   "cell_type": "markdown",
   "source": [
    "Mis disculpas por el error. Las URL para las listas de frecuencia de palabras en inglés y español deberían ser diferentes. Aquí están las URL correctas:\n",
    "\n",
    "- Inglés: `https://en.wiktionary.org/wiki/Wiktionary:Frequency_lists/PG/2006/04/1-10000`\n",
    "- Español: `https://en.wiktionary.org/wiki/Wiktionary:Frequency_lists/Spanish1000`\n",
    "\n",
    "Por favor, reemplace las URL en el código anterior y pruebe de nuevo."
   ],
   "id": "1fa772b6ea0f7c75"
  }
 ],
 "metadata": {
  "kernelspec": {
   "display_name": "Python 3",
   "language": "python",
   "name": "python3"
  },
  "language_info": {
   "codemirror_mode": {
    "name": "ipython",
    "version": 2
   },
   "file_extension": ".py",
   "mimetype": "text/x-python",
   "name": "python",
   "nbconvert_exporter": "python",
   "pygments_lexer": "ipython2",
   "version": "2.7.6"
  }
 },
 "nbformat": 4,
 "nbformat_minor": 5
}
