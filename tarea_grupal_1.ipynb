{
 "cells": [
  {
   "cell_type": "code",
   "execution_count": 46,
   "id": "initial_id",
   "metadata": {
    "collapsed": true,
    "ExecuteTime": {
     "end_time": "2024-03-29T14:30:29.488437Z",
     "start_time": "2024-03-29T14:30:26.279358Z"
    }
   },
   "outputs": [
    {
     "name": "stdout",
     "output_type": "stream",
     "text": [
      "{'uci_id': 1, 'name': 'Abalone', 'repository_url': 'https://archive.ics.uci.edu/dataset/1/abalone', 'data_url': 'https://archive.ics.uci.edu/static/public/1/data.csv', 'abstract': 'Predict the age of abalone from physical measurements', 'area': 'Biology', 'tasks': ['Classification', 'Regression'], 'characteristics': ['Tabular'], 'num_instances': 4177, 'num_features': 8, 'feature_types': ['Categorical', 'Integer', 'Real'], 'demographics': [], 'target_col': ['Rings'], 'index_col': None, 'has_missing_values': 'no', 'missing_values_symbol': None, 'year_of_dataset_creation': 1994, 'last_updated': 'Mon Aug 28 2023', 'dataset_doi': '10.24432/C55C7W', 'creators': ['Warwick Nash', 'Tracy Sellers', 'Simon Talbot', 'Andrew Cawthorn', 'Wes Ford'], 'intro_paper': None, 'additional_info': {'summary': 'Predicting the age of abalone from physical measurements.  The age of abalone is determined by cutting the shell through the cone, staining it, and counting the number of rings through a microscope -- a boring and time-consuming task.  Other measurements, which are easier to obtain, are used to predict the age.  Further information, such as weather patterns and location (hence food availability) may be required to solve the problem.\\r\\n\\r\\nFrom the original data examples with missing values were removed (the majority having the predicted value missing), and the ranges of the continuous values have been scaled for use with an ANN (by dividing by 200).', 'purpose': None, 'funded_by': None, 'instances_represent': None, 'recommended_data_splits': None, 'sensitive_data': None, 'preprocessing_description': None, 'variable_info': 'Given is the attribute name, attribute type, the measurement unit and a brief description.  The number of rings is the value to predict: either as a continuous value or as a classification problem.\\r\\n\\r\\nName / Data Type / Measurement Unit / Description\\r\\n-----------------------------\\r\\nSex / nominal / -- / M, F, and I (infant)\\r\\nLength / continuous / mm / Longest shell measurement\\r\\nDiameter\\t/ continuous / mm / perpendicular to length\\r\\nHeight / continuous / mm / with meat in shell\\r\\nWhole weight / continuous / grams / whole abalone\\r\\nShucked weight / continuous\\t / grams / weight of meat\\r\\nViscera weight / continuous / grams / gut weight (after bleeding)\\r\\nShell weight / continuous / grams / after being dried\\r\\nRings / integer / -- / +1.5 gives the age in years\\r\\n\\r\\nThe readme file contains attribute statistics.', 'citation': None}}\n",
      "             name     role         type demographic  \\\n",
      "0             Sex  Feature  Categorical        None   \n",
      "1          Length  Feature   Continuous        None   \n",
      "2        Diameter  Feature   Continuous        None   \n",
      "3          Height  Feature   Continuous        None   \n",
      "4    Whole_weight  Feature   Continuous        None   \n",
      "5  Shucked_weight  Feature   Continuous        None   \n",
      "6  Viscera_weight  Feature   Continuous        None   \n",
      "7    Shell_weight  Feature   Continuous        None   \n",
      "8           Rings   Target      Integer        None   \n",
      "\n",
      "                   description  units missing_values  \n",
      "0         M, F, and I (infant)   None             no  \n",
      "1    Longest shell measurement     mm             no  \n",
      "2      perpendicular to length     mm             no  \n",
      "3           with meat in shell     mm             no  \n",
      "4                whole abalone  grams             no  \n",
      "5               weight of meat  grams             no  \n",
      "6  gut weight (after bleeding)  grams             no  \n",
      "7            after being dried  grams             no  \n",
      "8  +1.5 gives the age in years   None             no  \n"
     ]
    }
   ],
   "source": [
    "from ucimlrepo import fetch_ucirepo \n",
    "from sklearn.model_selection import train_test_split\n",
    "from scipy.stats import norm\n",
    "from sklearn.metrics import accuracy_score, precision_score, recall_score\n",
    "import matplotlib.pyplot as plt\n",
    "import numpy as np\n",
    "  \n",
    "# fetch dataset \n",
    "abalone = fetch_ucirepo(id=1) \n",
    "  \n",
    "# data (as pandas dataframes) \n",
    "X = abalone.data.features \n",
    "y = abalone.data.targets \n",
    "  \n",
    "# metadata \n",
    "print(abalone.metadata) \n",
    "  \n",
    "# variable information \n",
    "print(abalone.variables) \n"
   ]
  },
  {
   "cell_type": "code",
   "outputs": [
    {
     "data": {
      "text/plain": "  Sex  Length  Diameter  Height  Whole_weight  Shucked_weight  Viscera_weight  \\\n0   M   0.455     0.365   0.095        0.5140          0.2245          0.1010   \n1   M   0.350     0.265   0.090        0.2255          0.0995          0.0485   \n2   F   0.530     0.420   0.135        0.6770          0.2565          0.1415   \n3   M   0.440     0.365   0.125        0.5160          0.2155          0.1140   \n4   I   0.330     0.255   0.080        0.2050          0.0895          0.0395   \n\n   Shell_weight  \n0         0.150  \n1         0.070  \n2         0.210  \n3         0.155  \n4         0.055  ",
      "text/html": "<div>\n<style scoped>\n    .dataframe tbody tr th:only-of-type {\n        vertical-align: middle;\n    }\n\n    .dataframe tbody tr th {\n        vertical-align: top;\n    }\n\n    .dataframe thead th {\n        text-align: right;\n    }\n</style>\n<table border=\"1\" class=\"dataframe\">\n  <thead>\n    <tr style=\"text-align: right;\">\n      <th></th>\n      <th>Sex</th>\n      <th>Length</th>\n      <th>Diameter</th>\n      <th>Height</th>\n      <th>Whole_weight</th>\n      <th>Shucked_weight</th>\n      <th>Viscera_weight</th>\n      <th>Shell_weight</th>\n    </tr>\n  </thead>\n  <tbody>\n    <tr>\n      <th>0</th>\n      <td>M</td>\n      <td>0.455</td>\n      <td>0.365</td>\n      <td>0.095</td>\n      <td>0.5140</td>\n      <td>0.2245</td>\n      <td>0.1010</td>\n      <td>0.150</td>\n    </tr>\n    <tr>\n      <th>1</th>\n      <td>M</td>\n      <td>0.350</td>\n      <td>0.265</td>\n      <td>0.090</td>\n      <td>0.2255</td>\n      <td>0.0995</td>\n      <td>0.0485</td>\n      <td>0.070</td>\n    </tr>\n    <tr>\n      <th>2</th>\n      <td>F</td>\n      <td>0.530</td>\n      <td>0.420</td>\n      <td>0.135</td>\n      <td>0.6770</td>\n      <td>0.2565</td>\n      <td>0.1415</td>\n      <td>0.210</td>\n    </tr>\n    <tr>\n      <th>3</th>\n      <td>M</td>\n      <td>0.440</td>\n      <td>0.365</td>\n      <td>0.125</td>\n      <td>0.5160</td>\n      <td>0.2155</td>\n      <td>0.1140</td>\n      <td>0.155</td>\n    </tr>\n    <tr>\n      <th>4</th>\n      <td>I</td>\n      <td>0.330</td>\n      <td>0.255</td>\n      <td>0.080</td>\n      <td>0.2050</td>\n      <td>0.0895</td>\n      <td>0.0395</td>\n      <td>0.055</td>\n    </tr>\n  </tbody>\n</table>\n</div>"
     },
     "execution_count": 47,
     "metadata": {},
     "output_type": "execute_result"
    }
   ],
   "source": [
    "X.head()"
   ],
   "metadata": {
    "collapsed": false,
    "ExecuteTime": {
     "end_time": "2024-03-29T14:30:29.498383Z",
     "start_time": "2024-03-29T14:30:29.490949Z"
    }
   },
   "id": "9ca9b8d390d8da7c",
   "execution_count": 47
  },
  {
   "cell_type": "code",
   "outputs": [],
   "source": [
    "X_ejercicio = X.copy()\n",
    "X_ejercicio = X_ejercicio.drop('Sex', axis=1)"
   ],
   "metadata": {
    "collapsed": false,
    "ExecuteTime": {
     "end_time": "2024-03-29T14:30:29.502353Z",
     "start_time": "2024-03-29T14:30:29.499491Z"
    }
   },
   "id": "18e59f00b54dd2d1",
   "execution_count": 48
  },
  {
   "cell_type": "code",
   "outputs": [
    {
     "data": {
      "text/plain": "   Length  Diameter  Height  Whole_weight  Shucked_weight  Viscera_weight  \\\n0   0.455     0.365   0.095        0.5140          0.2245          0.1010   \n1   0.350     0.265   0.090        0.2255          0.0995          0.0485   \n2   0.530     0.420   0.135        0.6770          0.2565          0.1415   \n3   0.440     0.365   0.125        0.5160          0.2155          0.1140   \n4   0.330     0.255   0.080        0.2050          0.0895          0.0395   \n\n   Shell_weight  \n0         0.150  \n1         0.070  \n2         0.210  \n3         0.155  \n4         0.055  ",
      "text/html": "<div>\n<style scoped>\n    .dataframe tbody tr th:only-of-type {\n        vertical-align: middle;\n    }\n\n    .dataframe tbody tr th {\n        vertical-align: top;\n    }\n\n    .dataframe thead th {\n        text-align: right;\n    }\n</style>\n<table border=\"1\" class=\"dataframe\">\n  <thead>\n    <tr style=\"text-align: right;\">\n      <th></th>\n      <th>Length</th>\n      <th>Diameter</th>\n      <th>Height</th>\n      <th>Whole_weight</th>\n      <th>Shucked_weight</th>\n      <th>Viscera_weight</th>\n      <th>Shell_weight</th>\n    </tr>\n  </thead>\n  <tbody>\n    <tr>\n      <th>0</th>\n      <td>0.455</td>\n      <td>0.365</td>\n      <td>0.095</td>\n      <td>0.5140</td>\n      <td>0.2245</td>\n      <td>0.1010</td>\n      <td>0.150</td>\n    </tr>\n    <tr>\n      <th>1</th>\n      <td>0.350</td>\n      <td>0.265</td>\n      <td>0.090</td>\n      <td>0.2255</td>\n      <td>0.0995</td>\n      <td>0.0485</td>\n      <td>0.070</td>\n    </tr>\n    <tr>\n      <th>2</th>\n      <td>0.530</td>\n      <td>0.420</td>\n      <td>0.135</td>\n      <td>0.6770</td>\n      <td>0.2565</td>\n      <td>0.1415</td>\n      <td>0.210</td>\n    </tr>\n    <tr>\n      <th>3</th>\n      <td>0.440</td>\n      <td>0.365</td>\n      <td>0.125</td>\n      <td>0.5160</td>\n      <td>0.2155</td>\n      <td>0.1140</td>\n      <td>0.155</td>\n    </tr>\n    <tr>\n      <th>4</th>\n      <td>0.330</td>\n      <td>0.255</td>\n      <td>0.080</td>\n      <td>0.2050</td>\n      <td>0.0895</td>\n      <td>0.0395</td>\n      <td>0.055</td>\n    </tr>\n  </tbody>\n</table>\n</div>"
     },
     "execution_count": 49,
     "metadata": {},
     "output_type": "execute_result"
    }
   ],
   "source": [
    "X_ejercicio.head()"
   ],
   "metadata": {
    "collapsed": false,
    "ExecuteTime": {
     "end_time": "2024-03-29T14:30:29.510532Z",
     "start_time": "2024-03-29T14:30:29.504244Z"
    }
   },
   "id": "3d31d0063465c80d",
   "execution_count": 49
  },
  {
   "cell_type": "code",
   "outputs": [
    {
     "name": "stderr",
     "output_type": "stream",
     "text": [
      "/var/folders/db/1bk8jf_n3f12dwr84x4lyc0dnc5f92/T/ipykernel_14917/2281667487.py:5: SettingWithCopyWarning: \n",
      "A value is trying to be set on a copy of a slice from a DataFrame.\n",
      "Try using .loc[row_indexer,col_indexer] = value instead\n",
      "\n",
      "See the caveats in the documentation: https://pandas.pydata.org/pandas-docs/stable/user_guide/indexing.html#returning-a-view-versus-a-copy\n",
      "  y['ringClass'] = (y >= average_rings).astype(int)\n"
     ]
    }
   ],
   "source": [
    "# Calculate the average value of 'rings'\n",
    "average_rings = y.mean()\n",
    "\n",
    "# Create a new column 'ringClass'\n",
    "y['ringClass'] = (y >= average_rings).astype(int)"
   ],
   "metadata": {
    "collapsed": false,
    "ExecuteTime": {
     "end_time": "2024-03-29T14:30:29.514128Z",
     "start_time": "2024-03-29T14:30:29.511252Z"
    }
   },
   "id": "7236c515bbe6d16b",
   "execution_count": 50
  },
  {
   "cell_type": "code",
   "outputs": [],
   "source": [
    "y_class = y['ringClass']"
   ],
   "metadata": {
    "collapsed": false,
    "ExecuteTime": {
     "end_time": "2024-03-29T14:30:29.516665Z",
     "start_time": "2024-03-29T14:30:29.515006Z"
    }
   },
   "id": "18997ab4a444a98e",
   "execution_count": 51
  },
  {
   "cell_type": "code",
   "outputs": [],
   "source": [
    "\n",
    "X_train, X_test, y_train, y_test = train_test_split(X_ejercicio, y_class, test_size=0.33, random_state=42)"
   ],
   "metadata": {
    "collapsed": false,
    "ExecuteTime": {
     "end_time": "2024-03-29T14:30:29.520469Z",
     "start_time": "2024-03-29T14:30:29.517382Z"
    }
   },
   "id": "cc8d1f3af8f9bb21",
   "execution_count": 52
  },
  {
   "cell_type": "code",
   "outputs": [
    {
     "data": {
      "text/plain": "      Length  Diameter  Height  Whole_weight  Shucked_weight  Viscera_weight  \\\n1593   0.525     0.380   0.135        0.6150          0.2610          0.1590   \n111    0.465     0.360   0.105        0.4310          0.1720          0.1070   \n3271   0.520     0.425   0.155        0.7735          0.2970          0.1230   \n1089   0.450     0.330   0.105        0.3715          0.1865          0.0785   \n2918   0.600     0.445   0.135        0.9205          0.4450          0.2035   \n...      ...       ...     ...           ...             ...             ...   \n3444   0.490     0.400   0.115        0.5690          0.2560          0.1325   \n466    0.670     0.550   0.190        1.3905          0.5425          0.3035   \n3092   0.510     0.395   0.125        0.5805          0.2440          0.1335   \n3772   0.575     0.465   0.120        1.0535          0.5160          0.2185   \n860    0.595     0.475   0.160        1.1405          0.5470          0.2310   \n\n      Shell_weight  \n1593        0.1750  \n111         0.1750  \n3271        0.2550  \n1089        0.0975  \n2918        0.2530  \n...            ...  \n3444        0.1450  \n466         0.4000  \n3092        0.1880  \n3772        0.2350  \n860         0.2710  \n\n[2798 rows x 7 columns]",
      "text/html": "<div>\n<style scoped>\n    .dataframe tbody tr th:only-of-type {\n        vertical-align: middle;\n    }\n\n    .dataframe tbody tr th {\n        vertical-align: top;\n    }\n\n    .dataframe thead th {\n        text-align: right;\n    }\n</style>\n<table border=\"1\" class=\"dataframe\">\n  <thead>\n    <tr style=\"text-align: right;\">\n      <th></th>\n      <th>Length</th>\n      <th>Diameter</th>\n      <th>Height</th>\n      <th>Whole_weight</th>\n      <th>Shucked_weight</th>\n      <th>Viscera_weight</th>\n      <th>Shell_weight</th>\n    </tr>\n  </thead>\n  <tbody>\n    <tr>\n      <th>1593</th>\n      <td>0.525</td>\n      <td>0.380</td>\n      <td>0.135</td>\n      <td>0.6150</td>\n      <td>0.2610</td>\n      <td>0.1590</td>\n      <td>0.1750</td>\n    </tr>\n    <tr>\n      <th>111</th>\n      <td>0.465</td>\n      <td>0.360</td>\n      <td>0.105</td>\n      <td>0.4310</td>\n      <td>0.1720</td>\n      <td>0.1070</td>\n      <td>0.1750</td>\n    </tr>\n    <tr>\n      <th>3271</th>\n      <td>0.520</td>\n      <td>0.425</td>\n      <td>0.155</td>\n      <td>0.7735</td>\n      <td>0.2970</td>\n      <td>0.1230</td>\n      <td>0.2550</td>\n    </tr>\n    <tr>\n      <th>1089</th>\n      <td>0.450</td>\n      <td>0.330</td>\n      <td>0.105</td>\n      <td>0.3715</td>\n      <td>0.1865</td>\n      <td>0.0785</td>\n      <td>0.0975</td>\n    </tr>\n    <tr>\n      <th>2918</th>\n      <td>0.600</td>\n      <td>0.445</td>\n      <td>0.135</td>\n      <td>0.9205</td>\n      <td>0.4450</td>\n      <td>0.2035</td>\n      <td>0.2530</td>\n    </tr>\n    <tr>\n      <th>...</th>\n      <td>...</td>\n      <td>...</td>\n      <td>...</td>\n      <td>...</td>\n      <td>...</td>\n      <td>...</td>\n      <td>...</td>\n    </tr>\n    <tr>\n      <th>3444</th>\n      <td>0.490</td>\n      <td>0.400</td>\n      <td>0.115</td>\n      <td>0.5690</td>\n      <td>0.2560</td>\n      <td>0.1325</td>\n      <td>0.1450</td>\n    </tr>\n    <tr>\n      <th>466</th>\n      <td>0.670</td>\n      <td>0.550</td>\n      <td>0.190</td>\n      <td>1.3905</td>\n      <td>0.5425</td>\n      <td>0.3035</td>\n      <td>0.4000</td>\n    </tr>\n    <tr>\n      <th>3092</th>\n      <td>0.510</td>\n      <td>0.395</td>\n      <td>0.125</td>\n      <td>0.5805</td>\n      <td>0.2440</td>\n      <td>0.1335</td>\n      <td>0.1880</td>\n    </tr>\n    <tr>\n      <th>3772</th>\n      <td>0.575</td>\n      <td>0.465</td>\n      <td>0.120</td>\n      <td>1.0535</td>\n      <td>0.5160</td>\n      <td>0.2185</td>\n      <td>0.2350</td>\n    </tr>\n    <tr>\n      <th>860</th>\n      <td>0.595</td>\n      <td>0.475</td>\n      <td>0.160</td>\n      <td>1.1405</td>\n      <td>0.5470</td>\n      <td>0.2310</td>\n      <td>0.2710</td>\n    </tr>\n  </tbody>\n</table>\n<p>2798 rows × 7 columns</p>\n</div>"
     },
     "execution_count": 53,
     "metadata": {},
     "output_type": "execute_result"
    }
   ],
   "source": [
    "X_train"
   ],
   "metadata": {
    "collapsed": false,
    "ExecuteTime": {
     "end_time": "2024-03-29T14:30:29.527364Z",
     "start_time": "2024-03-29T14:30:29.521166Z"
    }
   },
   "id": "1acfa30b5193bb0d",
   "execution_count": 53
  },
  {
   "cell_type": "code",
   "outputs": [],
   "source": [
    "\n",
    "\n",
    "# Initialize a dictionary to hold the Gaussian classifiers for each feature\n",
    "gaussian_classifiers = {}\n",
    "\n",
    "# For each feature in the training set\n",
    "for feature in X_train.columns:\n",
    "    # Estimate the parameters (mean and standard deviation) of the Gaussian distribution\n",
    "    mean = X_train[feature].mean()\n",
    "    std = X_train[feature].std()\n",
    "\n",
    "    # Build the univariate Gaussian classifier\n",
    "    gaussian_classifiers[feature] = norm(loc=mean, scale=std)\n",
    "\n",
    "# Now, we can use these classifiers to make predictions on the validation set\n",
    "# For each feature in the validation set\n",
    "for feature in X_test.columns:\n",
    "    # Get the Gaussian classifier for this feature\n",
    "    gaussian_classifier = gaussian_classifiers[feature]\n",
    "\n",
    "    # Use the classifier to make predictions on the validation set\n",
    "    predictions = gaussian_classifier.pdf(X_test[feature])\n",
    "\n",
    "    # Here, `predictions` is a numpy array containing the predicted probabilities for each instance in the validation set\n",
    "    # You can then use these probabilities to make class predictions, evaluate the classifier, etc."
   ],
   "metadata": {
    "collapsed": false,
    "ExecuteTime": {
     "end_time": "2024-03-29T14:30:29.537152Z",
     "start_time": "2024-03-29T14:30:29.528215Z"
    }
   },
   "id": "51b284803dc93946",
   "execution_count": 54
  },
  {
   "cell_type": "code",
   "outputs": [
    {
     "name": "stdout",
     "output_type": "stream",
     "text": [
      "Feature: Length, Mean: 0.5260436025732665, Standard Deviation: 0.11969101663819594\n",
      "Feature: Length, Accuracy: 0.536620739666425, Precision: 0.5115562403697997, Recall: 0.992526158445441\n",
      "Feature: Diameter, Mean: 0.4095085775553967, Standard Deviation: 0.09900921271482391\n",
      "Feature: Diameter, Accuracy: 0.5293691080493111, Precision: 0.5076103500761036, Recall: 0.9970104633781763\n",
      "Feature: Height, Mean: 0.14010543245175128, Standard Deviation: 0.04271863319732585\n",
      "Feature: Height, Accuracy: 0.4902102973168963, Precision: 0.48757309941520466, Recall: 0.9970104633781763\n",
      "Feature: Whole_weight, Mean: 0.8361988920657614, Standard Deviation: 0.49317524668446505\n",
      "Feature: Whole_weight, Accuracy: 0.5286439448875997, Precision: 0.5105672969966629, Recall: 0.6860986547085202\n",
      "Feature: Shucked_weight, Mean: 0.3629833809864189, Standard Deviation: 0.22419014461584394\n",
      "Feature: Shucked_weight, Accuracy: 0.4474256707759246, Precision: 0.46442234123947973, Recall: 0.9073243647234679\n",
      "Feature: Viscera_weight, Mean: 0.18220854181558255, Standard Deviation: 0.10942503480951794\n",
      "Feature: Viscera_weight, Accuracy: 0.45467730239303844, Precision: 0.4689138576779026, Recall: 0.9357249626307922\n",
      "Feature: Shell_weight, Mean: 0.24131415296640457, Standard Deviation: 0.14083695233568616\n",
      "Feature: Shell_weight, Accuracy: 0.45685279187817257, Precision: 0.47005988023952094, Recall: 0.9387144992526159\n"
     ]
    }
   ],
   "source": [
    "\n",
    "# Initialize dictionaries to hold the metrics for each feature\n",
    "accuracy_scores = {}\n",
    "precision_scores = {}\n",
    "recall_scores = {}\n",
    "\n",
    "# For each feature in the validation set\n",
    "for feature in X_test.columns:\n",
    "    # Get the Gaussian classifier for this feature\n",
    "    gaussian_classifier = gaussian_classifiers[feature]\n",
    "\n",
    "    # Write down the parameters\n",
    "    print(f\"Feature: {feature}, Mean: {gaussian_classifier.mean()}, Standard Deviation: {gaussian_classifier.std()}\")\n",
    "\n",
    "    # Use the classifier to make predictions on the validation set\n",
    "    probabilities = gaussian_classifier.pdf(X_test[feature])\n",
    "\n",
    "    # Make class predictions based on the probabilities\n",
    "    # Here, we use a threshold of 0.5, but you can adjust this as needed\n",
    "    predictions = (probabilities >= 0.5).astype(int)\n",
    "\n",
    "    # Calculate accuracy, precision, and recall\n",
    "    accuracy_scores[feature] = accuracy_score(y_test, predictions)\n",
    "    precision_scores[feature] = precision_score(y_test, predictions)\n",
    "    recall_scores[feature] = recall_score(y_test, predictions)\n",
    "\n",
    "    # Report the metrics\n",
    "    print(f\"Feature: {feature}, Accuracy: {accuracy_scores[feature]}, Precision: {precision_scores[feature]}, Recall: {recall_scores[feature]}\")"
   ],
   "metadata": {
    "collapsed": false,
    "ExecuteTime": {
     "end_time": "2024-03-29T14:30:29.559693Z",
     "start_time": "2024-03-29T14:30:29.539372Z"
    }
   },
   "id": "9892b3025d52aac0",
   "execution_count": 55
  },
  {
   "cell_type": "code",
   "outputs": [
    {
     "name": "stdout",
     "output_type": "stream",
     "text": [
      "Feature with highest accuracy: Length, Accuracy: 0.536620739666425\n",
      "Feature with highest precision: Length, Precision: 0.5115562403697997\n",
      "Feature with highest recall: Diameter, Recall: 0.9970104633781763\n"
     ]
    }
   ],
   "source": [
    "# Find the feature with the highest accuracy\n",
    "best_accuracy_feature = max(accuracy_scores, key=accuracy_scores.get)\n",
    "print(f\"Feature with highest accuracy: {best_accuracy_feature}, Accuracy: {accuracy_scores[best_accuracy_feature]}\")\n",
    "\n",
    "# Find the feature with the highest precision\n",
    "best_precision_feature = max(precision_scores, key=precision_scores.get)\n",
    "print(f\"Feature with highest precision: {best_precision_feature}, Precision: {precision_scores[best_precision_feature]}\")\n",
    "\n",
    "# Find the feature with the highest recall\n",
    "best_recall_feature = max(recall_scores, key=recall_scores.get)\n",
    "print(f\"Feature with highest recall: {best_recall_feature}, Recall: {recall_scores[best_recall_feature]}\")"
   ],
   "metadata": {
    "collapsed": false,
    "ExecuteTime": {
     "end_time": "2024-03-29T14:30:29.563096Z",
     "start_time": "2024-03-29T14:30:29.560461Z"
    }
   },
   "id": "fa8bfe42fce70e62",
   "execution_count": 56
  },
  {
   "cell_type": "code",
   "outputs": [
    {
     "name": "stdout",
     "output_type": "stream",
     "text": [
      "Feature: Length, Mean: 0.5260436025732665, Standard Deviation: 0.11969101663819594\n",
      "Feature: Length, Accuracy: 0.536620739666425, Precision: 0.5115562403697997, Recall: 0.992526158445441\n"
     ]
    }
   ],
   "source": [
    "# Get the Gaussian classifier for the 'Length' feature\n",
    "gaussian_classifier = gaussian_classifiers['Length']\n",
    "\n",
    "# Write down the parameters\n",
    "print(f\"Feature: Length, Mean: {gaussian_classifier.mean()}, Standard Deviation: {gaussian_classifier.std()}\")\n",
    "\n",
    "# Use the classifier to make predictions on the validation set\n",
    "probabilities = gaussian_classifier.pdf(X_test['Length'])\n",
    "\n",
    "# Make class predictions based on the probabilities\n",
    "# Here, we use a threshold of 0.5, but you can adjust this as needed\n",
    "predictions = (probabilities >= 0.5).astype(int)\n",
    "\n",
    "# Calculate accuracy, precision, and recall\n",
    "accuracy = accuracy_score(y_test, predictions)\n",
    "precision = precision_score(y_test, predictions)\n",
    "recall = recall_score(y_test, predictions)\n",
    "\n",
    "# Report the metrics\n",
    "print(f\"Feature: Length, Accuracy: {accuracy}, Precision: {precision}, Recall: {recall}\")"
   ],
   "metadata": {
    "collapsed": false,
    "ExecuteTime": {
     "end_time": "2024-03-29T14:30:29.569892Z",
     "start_time": "2024-03-29T14:30:29.563986Z"
    }
   },
   "id": "cd21289c60658fb2",
   "execution_count": 57
  }
 ],
 "metadata": {
  "kernelspec": {
   "display_name": "Python 3",
   "language": "python",
   "name": "python3"
  },
  "language_info": {
   "codemirror_mode": {
    "name": "ipython",
    "version": 2
   },
   "file_extension": ".py",
   "mimetype": "text/x-python",
   "name": "python",
   "nbconvert_exporter": "python",
   "pygments_lexer": "ipython2",
   "version": "2.7.6"
  }
 },
 "nbformat": 4,
 "nbformat_minor": 5
}
