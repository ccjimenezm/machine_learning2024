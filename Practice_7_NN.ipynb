{
 "cells": [
  {
   "cell_type": "markdown",
   "metadata": {
    "id": "OJLmvD0bFE78"
   },
   "source": [
    "# Practice problems 7\n",
    "# [Machine Learning](https://dis.unal.edu.co/~fgonza/)"
   ]
  },
  {
   "cell_type": "markdown",
   "metadata": {
    "id": "zm1vQFIkFE8A"
   },
   "source": [
    "The following code implements a feed-forward neural network with one hidden layer:"
   ]
  },
  {
   "cell_type": "code",
   "metadata": {
    "collapsed": true,
    "id": "nrvlVuyFFE8A",
    "ExecuteTime": {
     "end_time": "2024-04-16T17:58:02.921069Z",
     "start_time": "2024-04-16T17:58:02.537309Z"
    }
   },
   "source": [
    "import numpy as np\n",
    "import pylab as pl\n",
    "\n",
    "%matplotlib inline\n",
    "\n",
    "def sigmoid(x):\n",
    "    return 1.0/(1.0 + np.exp(-x))\n",
    "\n",
    "def relu(x):\n",
    "    return max(0, x)\n",
    "\n",
    "def predict(w, x):\n",
    "    a = np.zeros((3,))\n",
    "    a[2] = relu(np.dot(x,w[6:8]) + w[8])\n",
    "    a[1] = relu(np.dot(x,w[3:5]) + w[5])\n",
    "    a[0] = sigmoid(np.dot(a[1:3], w[0:2]) + w[2])\n",
    "    return a[0]"
   ],
   "outputs": [],
   "execution_count": 2
  },
  {
   "cell_type": "markdown",
   "metadata": {
    "id": "UJ2-dQdbFE8C"
   },
   "source": [
    "### 1.\n",
    "Find a weight vector such that the neural network calculates the negated XOR function:\n",
    "    \n",
    "$$f(x,y)=\\neg(x\\text{ xor }y)$$\n",
    "\n",
    "Use the following function to test your answer:"
   ]
  },
  {
   "cell_type": "code",
   "metadata": {
    "colab": {
     "base_uri": "https://localhost:8080/",
     "height": 334
    },
    "id": "ufaaQPqoFE8C",
    "outputId": "65747ebd-a682-485b-8f15-3db9f7be0051",
    "ExecuteTime": {
     "end_time": "2024-04-16T17:58:06.418295Z",
     "start_time": "2024-04-16T17:58:06.392290Z"
    }
   },
   "source": [
    "def test_prediction(X, Y, w):\n",
    "    epsilon = 0.001\n",
    "    for i, x in enumerate(X):\n",
    "        print (x, predict(w, x))\n",
    "        if np.abs(predict(w, x) - Y[i]) > epsilon:\n",
    "            raise Exception(\"Prediction error\")\n",
    "    return True\n",
    "\n",
    "w = np.array([-20, -20, 10, 20, 20, -10, 20, 20, -30])# you have to modify this vector\n",
    "\n",
    "X = [[0, 0],\n",
    " [0, 1],\n",
    " [1, 0],\n",
    " [1, 1]]\n",
    "Y = [1, 0, 0 ,1]\n",
    "test_prediction(X, Y, w)"
   ],
   "outputs": [
    {
     "name": "stdout",
     "output_type": "stream",
     "text": [
      "[0, 0] 0.9999546021312976\n",
      "[0, 1] 3.0482349509718563e-83\n",
      "[1, 0] 3.0482349509718563e-83\n",
      "[1, 1] 0.0\n"
     ]
    },
    {
     "name": "stderr",
     "output_type": "stream",
     "text": [
      "/var/folders/db/1bk8jf_n3f12dwr84x4lyc0dnc5f92/T/ipykernel_7577/1148889948.py:7: RuntimeWarning: overflow encountered in exp\n",
      "  return 1.0/(1.0 + np.exp(-x))\n"
     ]
    },
    {
     "ename": "Exception",
     "evalue": "Prediction error",
     "output_type": "error",
     "traceback": [
      "\u001B[0;31m---------------------------------------------------------------------------\u001B[0m",
      "\u001B[0;31mException\u001B[0m                                 Traceback (most recent call last)",
      "Cell \u001B[0;32mIn[3], line 16\u001B[0m\n\u001B[1;32m     11\u001B[0m X \u001B[38;5;241m=\u001B[39m [[\u001B[38;5;241m0\u001B[39m, \u001B[38;5;241m0\u001B[39m],\n\u001B[1;32m     12\u001B[0m  [\u001B[38;5;241m0\u001B[39m, \u001B[38;5;241m1\u001B[39m],\n\u001B[1;32m     13\u001B[0m  [\u001B[38;5;241m1\u001B[39m, \u001B[38;5;241m0\u001B[39m],\n\u001B[1;32m     14\u001B[0m  [\u001B[38;5;241m1\u001B[39m, \u001B[38;5;241m1\u001B[39m]]\n\u001B[1;32m     15\u001B[0m Y \u001B[38;5;241m=\u001B[39m [\u001B[38;5;241m1\u001B[39m, \u001B[38;5;241m0\u001B[39m, \u001B[38;5;241m0\u001B[39m ,\u001B[38;5;241m1\u001B[39m]\n\u001B[0;32m---> 16\u001B[0m \u001B[43mtest_prediction\u001B[49m\u001B[43m(\u001B[49m\u001B[43mX\u001B[49m\u001B[43m,\u001B[49m\u001B[43m \u001B[49m\u001B[43mY\u001B[49m\u001B[43m,\u001B[49m\u001B[43m \u001B[49m\u001B[43mw\u001B[49m\u001B[43m)\u001B[49m\n",
      "Cell \u001B[0;32mIn[3], line 6\u001B[0m, in \u001B[0;36mtest_prediction\u001B[0;34m(X, Y, w)\u001B[0m\n\u001B[1;32m      4\u001B[0m     \u001B[38;5;28mprint\u001B[39m (x, predict(w, x))\n\u001B[1;32m      5\u001B[0m     \u001B[38;5;28;01mif\u001B[39;00m np\u001B[38;5;241m.\u001B[39mabs(predict(w, x) \u001B[38;5;241m-\u001B[39m Y[i]) \u001B[38;5;241m>\u001B[39m epsilon:\n\u001B[0;32m----> 6\u001B[0m         \u001B[38;5;28;01mraise\u001B[39;00m \u001B[38;5;167;01mException\u001B[39;00m(\u001B[38;5;124m\"\u001B[39m\u001B[38;5;124mPrediction error\u001B[39m\u001B[38;5;124m\"\u001B[39m)\n\u001B[1;32m      7\u001B[0m \u001B[38;5;28;01mreturn\u001B[39;00m \u001B[38;5;28;01mTrue\u001B[39;00m\n",
      "\u001B[0;31mException\u001B[0m: Prediction error"
     ]
    }
   ],
   "execution_count": 3
  },
  {
   "cell_type": "markdown",
   "metadata": {
    "id": "M61f9mjOFE8D"
   },
   "source": [
    "### 2.\n",
    "\n",
    "Suppose that we have a cross entropy loss function:\n",
    "\n",
    "$$L(w, x, y) = - y \\log f_w(x) - (1-y) \\log (1-f_w(x))$$\n",
    "\n",
    "where $f_w(x)$ corresponds to the prediction of the neural network from the  previous question."
   ]
  },
  {
   "cell_type": "code",
   "execution_count": null,
   "metadata": {
    "collapsed": true,
    "id": "WlwtEDSoFE8E"
   },
   "outputs": [],
   "source": [
    "def loss(w, x, y):\n",
    "    return -y * np.log(predict(w, x)) -(1. - y) * np.log(1. - predict(w, x))"
   ]
  },
  {
   "cell_type": "markdown",
   "metadata": {
    "id": "h7AIo_-7FE8E"
   },
   "source": [
    "Write a function that calculates the gradient of the loss with respect to the weights:\n",
    "\n",
    "$$ \\frac{\\partial L}{\\partial w} $$"
   ]
  },
  {
   "cell_type": "code",
   "execution_count": null,
   "metadata": {
    "collapsed": true,
    "id": "Y4pyiyyVFE8E"
   },
   "outputs": [],
   "source": [
    "def dL_dw(w, x, y):\n",
    "    delta = np.zeros(len(w))\n",
    "    # put your code here\n",
    "    return delta"
   ]
  },
  {
   "cell_type": "markdown",
   "metadata": {
    "id": "_JDfuwzVFE8F"
   },
   "source": [
    "Use the following functions to test your code:"
   ]
  },
  {
   "cell_type": "code",
   "source": [
    "tws = np.array([[-0.70032787,  0.05195189,  0.02322052,  1.4555916 ,  0.12168937,\n",
    "        -0.93580307, -0.58649814, -0.25847014, -0.11531032],\n",
    "       [ 1.11732048,  0.60225913,  0.05929297, -1.09018787,  2.33186956,\n",
    "         0.68248461, -0.16774443, -0.12996126,  0.31700533],\n",
    "       [ 0.80285183,  0.08585098,  1.62153749,  0.61251705,  0.18263732,\n",
    "         2.08412764, -0.2940164 , -0.72975557, -1.33828478],\n",
    "       [-0.74973286,  1.24623671,  0.63761743,  2.13714693,  0.90258674,\n",
    "         1.70238408, -2.60308453,  0.03070776,  2.34519973]])\n",
    "txs = np.array([[-0.96460511,  0.79790901],\n",
    "       [ 0.34546505,  0.92062212],\n",
    "       [-0.85750439,  0.50268203],\n",
    "       [ 0.69988938,  2.07328522]])\n",
    "tys = np.array([[ 0.66453404],\n",
    "       [-1.35012527],\n",
    "       [-0.7976646 ],\n",
    "       [ 0.57095802]])\n",
    "tls = np.array([[ 0.        , -0.03798627, -0.1555583 ,  0.        ,  0.        ,\n",
    "         0.        ,  0.0077955 , -0.00644834, -0.00808155],\n",
    "       [ 5.63408329,  0.32024725,  2.29715661,  0.88669136,  2.36292409,\n",
    "         2.56666012,  0.47794521,  1.27366556,  1.38348354],\n",
    "       [ 2.8850554 ,  0.        ,  1.74777687, -1.20325518,  0.70536637,\n",
    "         1.40320586,  0.        ,  0.        ,  0.        ],\n",
    "       [-2.48486794, -0.2877231 , -0.49016324,  0.25720339,  0.76191466,\n",
    "         0.36749148, -0.42753402, -1.26648581, -0.61085942]])\n",
    "\n",
    "def test_dL_dw():\n",
    "    num_tests = tws.shape[0]\n",
    "    epsilon = 0.0001\n",
    "    for i in range(num_tests):\n",
    "        tw = tws[i]\n",
    "        tx = txs[i]\n",
    "        ty = tys[i]\n",
    "        tl = tls[i]\n",
    "        if np.linalg.norm(dL_dw(tw, tx, ty) - tl) > epsilon:\n",
    "            raise Exception(\"dL_dw test failed!\")\n",
    "    return True\n",
    "\n",
    "test_dL_dw()"
   ],
   "metadata": {
    "id": "29TFtU9KMiyb",
    "colab": {
     "base_uri": "https://localhost:8080/",
     "height": 317
    },
    "outputId": "f626dcd8-247a-4921-fc2f-a852bd8ba41c"
   },
   "execution_count": null,
   "outputs": [
    {
     "output_type": "error",
     "ename": "Exception",
     "evalue": "ignored",
     "traceback": [
      "\u001B[0;31m---------------------------------------------------------------------------\u001B[0m",
      "\u001B[0;31mException\u001B[0m                                 Traceback (most recent call last)",
      "\u001B[0;32m<ipython-input-5-dfa140f93a06>\u001B[0m in \u001B[0;36m<module>\u001B[0;34m()\u001B[0m\n\u001B[1;32m     36\u001B[0m     \u001B[0;32mreturn\u001B[0m \u001B[0;32mTrue\u001B[0m\u001B[0;34m\u001B[0m\u001B[0;34m\u001B[0m\u001B[0m\n\u001B[1;32m     37\u001B[0m \u001B[0;34m\u001B[0m\u001B[0m\n\u001B[0;32m---> 38\u001B[0;31m \u001B[0mtest_dL_dw\u001B[0m\u001B[0;34m(\u001B[0m\u001B[0;34m)\u001B[0m\u001B[0;34m\u001B[0m\u001B[0;34m\u001B[0m\u001B[0m\n\u001B[0m",
      "\u001B[0;32m<ipython-input-5-dfa140f93a06>\u001B[0m in \u001B[0;36mtest_dL_dw\u001B[0;34m()\u001B[0m\n\u001B[1;32m     33\u001B[0m         \u001B[0mtl\u001B[0m \u001B[0;34m=\u001B[0m \u001B[0mtls\u001B[0m\u001B[0;34m[\u001B[0m\u001B[0mi\u001B[0m\u001B[0;34m]\u001B[0m\u001B[0;34m\u001B[0m\u001B[0;34m\u001B[0m\u001B[0m\n\u001B[1;32m     34\u001B[0m         \u001B[0;32mif\u001B[0m \u001B[0mnp\u001B[0m\u001B[0;34m.\u001B[0m\u001B[0mlinalg\u001B[0m\u001B[0;34m.\u001B[0m\u001B[0mnorm\u001B[0m\u001B[0;34m(\u001B[0m\u001B[0mdL_dw\u001B[0m\u001B[0;34m(\u001B[0m\u001B[0mtw\u001B[0m\u001B[0;34m,\u001B[0m \u001B[0mtx\u001B[0m\u001B[0;34m,\u001B[0m \u001B[0mty\u001B[0m\u001B[0;34m)\u001B[0m \u001B[0;34m-\u001B[0m \u001B[0mtl\u001B[0m\u001B[0;34m)\u001B[0m \u001B[0;34m>\u001B[0m \u001B[0mepsilon\u001B[0m\u001B[0;34m:\u001B[0m\u001B[0;34m\u001B[0m\u001B[0;34m\u001B[0m\u001B[0m\n\u001B[0;32m---> 35\u001B[0;31m             \u001B[0;32mraise\u001B[0m \u001B[0mException\u001B[0m\u001B[0;34m(\u001B[0m\u001B[0;34m\"dL_dw test failed!\"\u001B[0m\u001B[0;34m)\u001B[0m\u001B[0;34m\u001B[0m\u001B[0;34m\u001B[0m\u001B[0m\n\u001B[0m\u001B[1;32m     36\u001B[0m     \u001B[0;32mreturn\u001B[0m \u001B[0;32mTrue\u001B[0m\u001B[0;34m\u001B[0m\u001B[0;34m\u001B[0m\u001B[0m\n\u001B[1;32m     37\u001B[0m \u001B[0;34m\u001B[0m\u001B[0m\n",
      "\u001B[0;31mException\u001B[0m: dL_dw test failed!"
     ]
    }
   ]
  },
  {
   "cell_type": "code",
   "source": [],
   "metadata": {
    "id": "3p-0h7W-URy0"
   },
   "execution_count": null,
   "outputs": []
  }
 ],
 "metadata": {
  "kernelspec": {
   "display_name": "Python 3",
   "language": "python",
   "name": "python3"
  },
  "language_info": {
   "codemirror_mode": {
    "name": "ipython",
    "version": 3
   },
   "file_extension": ".py",
   "mimetype": "text/x-python",
   "name": "python",
   "nbconvert_exporter": "python",
   "pygments_lexer": "ipython3",
   "version": "3.6.8"
  },
  "colab": {
   "provenance": []
  }
 },
 "nbformat": 4,
 "nbformat_minor": 0
}
