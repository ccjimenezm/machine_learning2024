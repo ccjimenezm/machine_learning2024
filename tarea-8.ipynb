{
 "cells": [
  {
   "metadata": {},
   "cell_type": "markdown",
   "source": [
    "## 1. Build and train a keras sequential model to classify digits form the mnist dataset. The model must have a hidden dense layer of 128 neurons with a relu activation function."
   ],
   "id": "3cf9e58eee73862"
  },
  {
   "metadata": {
    "ExecuteTime": {
     "end_time": "2024-04-25T02:47:02.713231200Z",
     "start_time": "2024-04-25T02:47:02.708222600Z"
    }
   },
   "cell_type": "code",
   "source": [
    "import tensorflow"
   ],
   "id": "6ad4c4261ac143ba",
   "outputs": [],
   "execution_count": 3
  },
  {
   "cell_type": "code",
   "source": [
    "# Importa las bibliotecas necesarias\n",
    "from tensorflow.keras.datasets import mnist\n",
    "from tensorflow.keras.models import Sequential\n",
    "from tensorflow.keras.layers import Dense, Activation\n",
    "from tensorflow.keras.utils import to_categorical\n",
    "import matplotlib.pyplot as plt\n",
    "import numpy as np\n",
    "\n",
    "# Carga el conjunto de datos MNIST\n",
    "(train_images, train_labels), (test_images, test_labels) = mnist.load_data()\n",
    "\n",
    "# Normaliza los datos de entrada\n",
    "train_images = train_images.reshape((60000, 28 * 28))\n",
    "train_images = train_images.astype('float32') / 255\n",
    "\n",
    "test_images = test_images.reshape((10000, 28 * 28))\n",
    "test_images = test_images.astype('float32') / 255\n",
    "\n",
    "# Convierte las etiquetas a categorías\n",
    "train_labels = to_categorical(train_labels)\n",
    "test_labels = to_categorical(test_labels)\n",
    "\n",
    "# Construye el modelo secuencial\n",
    "model = Sequential()\n",
    "model.add(Dense(128, activation='relu', input_shape=(28 * 28,)))\n",
    "model.add(Dense(10, activation='softmax'))\n",
    "\n",
    "# Compila el modelo\n",
    "model.compile(optimizer='adam', loss='categorical_crossentropy', metrics=['accuracy'])\n",
    "\n",
    "# Entrena el modelo\n",
    "model.fit(train_images, train_labels, epochs=5, batch_size=128)\n",
    "\n",
    "# Evalúa el modelo\n",
    "test_loss, test_acc = model.evaluate(test_images, test_labels)\n",
    "print('Test accuracy:', test_acc)\n"
   ],
   "metadata": {
    "ExecuteTime": {
     "end_time": "2024-04-25T02:47:09.410412200Z",
     "start_time": "2024-04-25T02:47:02.714233600Z"
    }
   },
   "id": "8c079bdc61c3eba1",
   "outputs": [
    {
     "name": "stdout",
     "output_type": "stream",
     "text": [
      "Epoch 1/5\n",
      "469/469 [==============================] - 1s 2ms/step - loss: 0.3577 - accuracy: 0.9019\n",
      "Epoch 2/5\n",
      "469/469 [==============================] - 1s 2ms/step - loss: 0.1615 - accuracy: 0.9527\n",
      "Epoch 3/5\n",
      "469/469 [==============================] - 1s 2ms/step - loss: 0.1177 - accuracy: 0.9662\n",
      "Epoch 4/5\n",
      "469/469 [==============================] - 1s 2ms/step - loss: 0.0919 - accuracy: 0.9738\n",
      "Epoch 5/5\n",
      "469/469 [==============================] - 1s 2ms/step - loss: 0.0731 - accuracy: 0.9800\n",
      "313/313 [==============================] - 0s 1ms/step - loss: 0.0891 - accuracy: 0.9738\n",
      "Test accuracy: 0.973800003528595\n"
     ]
    }
   ],
   "execution_count": 4
  },
  {
   "metadata": {},
   "cell_type": "code",
   "outputs": [],
   "execution_count": null,
   "source": [
    "\n",
    "# Selecciona una imagen de prueba\n",
    "image_index = 0\n",
    "img = test_images[image_index]\n",
    "plt.imshow(img.reshape(28, 28), cmap='gray')\n",
    "\n",
    "# Predecir la etiqueta de la imagen de prueba\n",
    "img = (np.expand_dims(img,0))\n",
    "predictions_single = model.predict(img)\n",
    "predicted_label = np.argmax(predictions_single)\n",
    "\n",
    "# Imprimir la etiqueta real y la predicha\n",
    "print(\"Etiqueta real: \", np.argmax(test_labels[image_index]))\n",
    "print(\"Etiqueta predicha: \", predicted_label)"
   ],
   "id": "c57286b13f5cbfcb"
  },
  {
   "cell_type": "markdown",
   "source": [
    "## 2.Now build and train a keras functional model for the same problem. The model must have a hidden dense layer of 128 neurons with an activation function defined by the following function: activation(x) = ( 0 if x < 0, sin(x −π/2) + 1 if 0 ≤ x ≤ π/2, x −π/2 + 1 otherwise )"
   ],
   "metadata": {
    "collapsed": false
   },
   "id": "ff572773caaaa19"
  },
  {
   "metadata": {
    "ExecuteTime": {
     "end_time": "2024-04-25T02:47:16.301840900Z",
     "start_time": "2024-04-25T02:47:09.416410900Z"
    }
   },
   "cell_type": "code",
   "source": [
    "import tensorflow as tf\n",
    "from tensorflow.keras.datasets import mnist\n",
    "from tensorflow.keras.models import Sequential\n",
    "from tensorflow.keras.layers import Dense, Activation\n",
    "from tensorflow.keras.utils import to_categorical\n",
    "import numpy as np\n",
    "\n",
    "# Define la función de activación personalizada\n",
    "def custom_activation(x):\n",
    "    cond = tf.less(x, 0)\n",
    "    out1 = tf.zeros(tf.shape(x))\n",
    "    cond2 = tf.less_equal(x, np.pi/2)\n",
    "    out2 = tf.sin(x - np.pi/2) + 1\n",
    "    cond3 = tf.greater(x, np.pi/2)\n",
    "    out3 = x - np.pi/2 + 1\n",
    "    return tf.where(cond, out1, tf.where(cond2, out2, out3))\n",
    "\n",
    "# Carga el conjunto de datos MNIST\n",
    "(train_images, train_labels), (test_images, test_labels) = mnist.load_data()\n",
    "\n",
    "# Normaliza los datos de entrada\n",
    "train_images = train_images.reshape((60000, 28 * 28))\n",
    "train_images = train_images.astype('float32') / 255\n",
    "\n",
    "test_images = test_images.reshape((10000, 28 * 28))\n",
    "test_images = test_images.astype('float32') / 255\n",
    "\n",
    "# Convierte las etiquetas a categorías\n",
    "train_labels = to_categorical(train_labels)\n",
    "test_labels = to_categorical(test_labels)\n",
    "\n",
    "# Construye el modelo secuencial\n",
    "model = Sequential()\n",
    "model.add(Dense(128, input_shape=(28 * 28,)))\n",
    "model.add(Activation(custom_activation))\n",
    "model.add(Dense(10, activation='softmax'))\n",
    "\n",
    "# Compila el modelo\n",
    "model.compile(optimizer='adam', loss='categorical_crossentropy', metrics=['accuracy'])\n",
    "\n",
    "# Entrena el modelo\n",
    "model.fit(train_images, train_labels, epochs=5, batch_size=128)\n",
    "\n",
    "# Evalúa el modelo\n",
    "test_loss, test_acc = model.evaluate(test_images, test_labels)\n",
    "print('Test accuracy:', test_acc)"
   ],
   "id": "af6f8aec28c22db7",
   "outputs": [
    {
     "name": "stdout",
     "output_type": "stream",
     "text": [
      "Epoch 1/5\n",
      "469/469 [==============================] - 2s 3ms/step - loss: 0.3696 - accuracy: 0.9014\n",
      "Epoch 2/5\n",
      "469/469 [==============================] - 1s 3ms/step - loss: 0.1653 - accuracy: 0.9531\n",
      "Epoch 3/5\n",
      "469/469 [==============================] - 1s 2ms/step - loss: 0.1202 - accuracy: 0.9656\n",
      "Epoch 4/5\n",
      "469/469 [==============================] - 1s 2ms/step - loss: 0.0956 - accuracy: 0.9725\n",
      "Epoch 5/5\n",
      "469/469 [==============================] - 1s 2ms/step - loss: 0.0775 - accuracy: 0.9780\n",
      "313/313 [==============================] - 0s 928us/step - loss: 0.1030 - accuracy: 0.9686\n",
      "Test accuracy: 0.9685999751091003\n"
     ]
    }
   ],
   "execution_count": 5
  },
  {
   "cell_type": "markdown",
   "source": [
    "## 3. Repeat the previous questions but now using PyTorch."
   ],
   "metadata": {
    "collapsed": false
   },
   "id": "c84565733250c93a"
  },
  {
   "metadata": {},
   "cell_type": "code",
   "outputs": [],
   "execution_count": null,
   "source": [
    "import torch\n",
    "import torch.nn as nn\n",
    "import torch.nn.functional as F\n",
    "from torchvision import datasets, transforms\n",
    "\n",
    "# Define la función de activación personalizada\n",
    "class CustomActivation(nn.Module):\n",
    "    def forward(self, x):\n",
    "        cond = x < 0\n",
    "        out1 = torch.zeros_like(x)\n",
    "        cond2 = (0 <= x) & (x <= np.pi/2)\n",
    "        out2 = torch.sin(x - np.pi/2) + 1\n",
    "        cond3 = x > np.pi/2\n",
    "        out3 = x - np.pi/2 + 1\n",
    "        return torch.where(cond, out1, torch.where(cond2, out2, out3))\n",
    "\n",
    "# Define el modelo\n",
    "class Net(nn.Module):\n",
    "    def __init__(self):\n",
    "        super(Net, self).__init__()\n",
    "        self.fc1 = nn.Linear(28*28, 128)\n",
    "        self.fc2 = nn.Linear(128, 10)\n",
    "        self.custom_activation = CustomActivation()\n",
    "\n",
    "    def forward(self, x):\n",
    "        x = x.view(-1, 28*28)\n",
    "        x = self.custom_activation(self.fc1(x))\n",
    "        x = F.softmax(self.fc2(x), dim=1)\n",
    "        return x\n",
    "\n",
    "# Carga el conjunto de datos MNIST\n",
    "train_data = datasets.MNIST(root='data', train=True, download=True, transform=transforms.ToTensor())\n",
    "test_data = datasets.MNIST(root='data', train=False, download=True, transform=transforms.ToTensor())\n",
    "\n",
    "train_loader = torch.utils.data.DataLoader(train_data, batch_size=128, shuffle=True)\n",
    "test_loader = torch.utils.data.DataLoader(test_data, batch_size=128, shuffle=True)\n",
    "\n",
    "# Instancia el modelo, define la pérdida y el optimizador\n",
    "model = Net()\n",
    "criterion = nn.CrossEntropyLoss()\n",
    "optimizer = torch.optim.Adam(model.parameters())\n",
    "\n",
    "# Entrena el modelo\n",
    "for epoch in range(5):\n",
    "    for data, target in train_loader:\n",
    "        optimizer.zero_grad()\n",
    "        output = model(data)\n",
    "        loss = criterion(output, target)\n",
    "        loss.backward()\n",
    "        optimizer.step()\n",
    "\n",
    "# Evalúa el modelo\n",
    "correct = 0\n",
    "total = 0\n",
    "with torch.no_grad():\n",
    "    for data, target in test_loader:\n",
    "        output = model(data)\n",
    "        _, predicted = torch.max(output.data, 1)\n",
    "        total += target.size(0)\n",
    "        correct += (predicted == target).sum().item()\n",
    "\n",
    "print('Test accuracy:', correct / total)"
   ],
   "id": "7cfffd3e91b583a7"
  }
 ],
 "metadata": {
  "kernelspec": {
   "display_name": "Python 3",
   "language": "python",
   "name": "python3"
  },
  "language_info": {
   "codemirror_mode": {
    "name": "ipython",
    "version": 2
   },
   "file_extension": ".py",
   "mimetype": "text/x-python",
   "name": "python",
   "nbconvert_exporter": "python",
   "pygments_lexer": "ipython2",
   "version": "2.7.6"
  }
 },
 "nbformat": 4,
 "nbformat_minor": 5
}
