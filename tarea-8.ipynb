{
 "cells": [
  {
   "metadata": {},
   "cell_type": "markdown",
   "source": [
    "1. Build and train a keras sequential model to classify digits form the mnist dataset. The model\n",
    "must have a hidden dense layer of 128 neurons with a relu activation function.\n",
    "2. Now build and train a keras functional model for the same problem. The model must have\n",
    "a hidden dense layer of 128 neurons with an activation function defined by the following\n",
    "function:\n",
    "activation(x) = ( 0 if x < 0, \n",
    "sin(x −π/2) + 1 if 0 ≤ x ≤ π/2,\n",
    "x −π/2 + 1 otherwise )\n",
    "3. Repeat the previous questions but now using PyTorch."
   ],
   "id": "dd98afd61b68d97d"
  },
  {
   "metadata": {},
   "cell_type": "markdown",
   "source": "## 1. Build and train a keras sequential model to classify digits form the mnist dataset. The model must have a hidden dense layer of 128 neurons with a relu activation function.",
   "id": "3cf9e58eee73862"
  },
  {
   "metadata": {
    "ExecuteTime": {
     "end_time": "2024-04-25T02:30:58.309192Z",
     "start_time": "2024-04-25T02:30:58.307367Z"
    }
   },
   "cell_type": "code",
   "source": "import tensorflow",
   "id": "6ad4c4261ac143ba",
   "outputs": [],
   "execution_count": 7
  },
  {
   "cell_type": "code",
   "source": [
    "# Importa las bibliotecas necesarias\n",
    "from tensorflow.keras.datasets import mnist\n",
    "from tensorflow.keras.models import Sequential\n",
    "from tensorflow.keras.layers import Dense\n",
    "from tensorflow.keras.utils import to_categorical\n",
    "\n",
    "# Carga el conjunto de datos MNIST\n",
    "(train_images, train_labels), (test_images, test_labels) = mnist.load_data()\n",
    "\n",
    "# Normaliza los datos de entrada\n",
    "train_images = train_images.reshape((60000, 28 * 28))\n",
    "train_images = train_images.astype('float32') / 255\n",
    "\n",
    "test_images = test_images.reshape((10000, 28 * 28))\n",
    "test_images = test_images.astype('float32') / 255\n",
    "\n",
    "# Convierte las etiquetas a categorías\n",
    "train_labels = to_categorical(train_labels)\n",
    "test_labels = to_categorical(test_labels)\n",
    "\n",
    "# Construye el modelo secuencial\n",
    "model = Sequential()\n",
    "model.add(Dense(128, activation='relu', input_shape=(28 * 28,)))\n",
    "model.add(Dense(10, activation='softmax'))\n",
    "\n",
    "# Compila el modelo\n",
    "model.compile(optimizer='adam', loss='categorical_crossentropy', metrics=['accuracy'])\n",
    "\n",
    "# Entrena el modelo\n",
    "model.fit(train_images, train_labels, epochs=5, batch_size=128)\n",
    "\n",
    "# Evalúa el modelo\n",
    "test_loss, test_acc = model.evaluate(test_images, test_labels)\n",
    "print('Test accuracy:', test_acc)\n"
   ],
   "metadata": {
    "ExecuteTime": {
     "end_time": "2024-04-25T02:36:01.570887Z",
     "start_time": "2024-04-25T02:36:01.552670Z"
    }
   },
   "id": "8c079bdc61c3eba1",
   "outputs": [
    {
     "ename": "ModuleNotFoundError",
     "evalue": "No module named 'tensorflow.keras'",
     "output_type": "error",
     "traceback": [
      "\u001B[0;31m---------------------------------------------------------------------------\u001B[0m",
      "\u001B[0;31mModuleNotFoundError\u001B[0m                       Traceback (most recent call last)",
      "Cell \u001B[0;32mIn[12], line 2\u001B[0m\n\u001B[1;32m      1\u001B[0m \u001B[38;5;66;03m# Importa las bibliotecas necesarias\u001B[39;00m\n\u001B[0;32m----> 2\u001B[0m \u001B[38;5;28;01mfrom\u001B[39;00m \u001B[38;5;21;01mtensorflow\u001B[39;00m\u001B[38;5;21;01m.\u001B[39;00m\u001B[38;5;21;01mkeras\u001B[39;00m\u001B[38;5;21;01m.\u001B[39;00m\u001B[38;5;21;01mdatasets\u001B[39;00m \u001B[38;5;28;01mimport\u001B[39;00m mnist\n\u001B[1;32m      3\u001B[0m \u001B[38;5;28;01mfrom\u001B[39;00m \u001B[38;5;21;01mtensorflow\u001B[39;00m\u001B[38;5;21;01m.\u001B[39;00m\u001B[38;5;21;01mkeras\u001B[39;00m\u001B[38;5;21;01m.\u001B[39;00m\u001B[38;5;21;01mmodels\u001B[39;00m \u001B[38;5;28;01mimport\u001B[39;00m Sequential\n\u001B[1;32m      4\u001B[0m \u001B[38;5;28;01mfrom\u001B[39;00m \u001B[38;5;21;01mtensorflow\u001B[39;00m\u001B[38;5;21;01m.\u001B[39;00m\u001B[38;5;21;01mkeras\u001B[39;00m\u001B[38;5;21;01m.\u001B[39;00m\u001B[38;5;21;01mlayers\u001B[39;00m \u001B[38;5;28;01mimport\u001B[39;00m Dense\n",
      "\u001B[0;31mModuleNotFoundError\u001B[0m: No module named 'tensorflow.keras'"
     ]
    }
   ],
   "execution_count": 12
  },
  {
   "metadata": {},
   "cell_type": "code",
   "source": [
    "import tensorflow as tf\n",
    "from tensorflow.keras.datasets import mnist\n",
    "from tensorflow.keras.models import Sequential\n",
    "from tensorflow.keras.layers import Dense, Activation\n",
    "from tensorflow.keras.utils import to_categorical\n",
    "import numpy as np\n",
    "\n",
    "# Define la función de activación personalizada\n",
    "def custom_activation(x):\n",
    "    cond = tf.less(x, 0)\n",
    "    out1 = tf.zeros(tf.shape(x))\n",
    "    cond2 = tf.less_equal(x, np.pi/2)\n",
    "    out2 = tf.sin(x - np.pi/2) + 1\n",
    "    cond3 = tf.greater(x, np.pi/2)\n",
    "    out3 = x - np.pi/2 + 1\n",
    "    return tf.where(cond, out1, tf.where(cond2, out2, out3))\n",
    "\n",
    "# Carga el conjunto de datos MNIST\n",
    "(train_images, train_labels), (test_images, test_labels) = mnist.load_data()\n",
    "\n",
    "# Normaliza los datos de entrada\n",
    "train_images = train_images.reshape((60000, 28 * 28))\n",
    "train_images = train_images.astype('float32') / 255\n",
    "\n",
    "test_images = test_images.reshape((10000, 28 * 28))\n",
    "test_images = test_images.astype('float32') / 255\n",
    "\n",
    "# Convierte las etiquetas a categorías\n",
    "train_labels = to_categorical(train_labels)\n",
    "test_labels = to_categorical(test_labels)\n",
    "\n",
    "# Construye el modelo secuencial\n",
    "model = Sequential()\n",
    "model.add(Dense(128, input_shape=(28 * 28,)))\n",
    "model.add(Activation(custom_activation))\n",
    "model.add(Dense(10, activation='softmax'))\n",
    "\n",
    "# Compila el modelo\n",
    "model.compile(optimizer='adam', loss='categorical_crossentropy', metrics=['accuracy'])\n",
    "\n",
    "# Entrena el modelo\n",
    "model.fit(train_images, train_labels, epochs=5, batch_size=128)\n",
    "\n",
    "# Evalúa el modelo\n",
    "test_loss, test_acc = model.evaluate(test_images, test_labels)\n",
    "print('Test accuracy:', test_acc)"
   ],
   "id": "af6f8aec28c22db7",
   "outputs": [],
   "execution_count": null
  },
  {
   "metadata": {},
   "cell_type": "code",
   "outputs": [],
   "execution_count": null,
   "source": [
    "import tensorflow as tf\n",
    "from tensorflow.keras.datasets import mnist\n",
    "from tensorflow.keras.models import Sequential\n",
    "from tensorflow.keras.layers import Dense, Activation\n",
    "from tensorflow.keras.utils import to_categorical\n",
    "import numpy as np\n",
    "\n",
    "# Define la función de activación personalizada\n",
    "def custom_activation(x):\n",
    "    cond = tf.less(x, 0)\n",
    "    out1 = tf.zeros(tf.shape(x))\n",
    "    cond2 = tf.less_equal(x, np.pi/2)\n",
    "    out2 = tf.sin(x - np.pi/2) + 1\n",
    "    cond3 = tf.greater(x, np.pi/2)\n",
    "    out3 = x - np.pi/2 + 1\n",
    "    return tf.where(cond, out1, tf.where(cond2, out2, out3))\n",
    "\n",
    "# Carga el conjunto de datos MNIST\n",
    "(train_images, train_labels), (test_images, test_labels) = mnist.load_data()\n",
    "\n",
    "# Normaliza los datos de entrada\n",
    "train_images = train_images.reshape((60000, 28 * 28))\n",
    "train_images = train_images.astype('float32') / 255\n",
    "\n",
    "test_images = test_images.reshape((10000, 28 * 28))\n",
    "test_images = test_images.astype('float32') / 255\n",
    "\n",
    "# Convierte las etiquetas a categorías\n",
    "train_labels = to_categorical(train_labels)\n",
    "test_labels = to_categorical(test_labels)\n",
    "\n",
    "# Construye el modelo secuencial\n",
    "model = Sequential()\n",
    "model.add(Dense(128, input_shape=(28 * 28,)))\n",
    "model.add(Activation(custom_activation))\n",
    "model.add(Dense(10, activation='softmax'))\n",
    "\n",
    "# Compila el modelo\n",
    "model.compile(optimizer='adam', loss='categorical_crossentropy', metrics=['accuracy'])\n",
    "\n",
    "# Entrena el modelo\n",
    "model.fit(train_images, train_labels, epochs=5, batch_size=128)\n",
    "\n",
    "# Evalúa el modelo\n",
    "test_loss, test_acc = model.evaluate(test_images, test_labels)\n",
    "print('Test accuracy:', test_acc)"
   ],
   "id": "cbc49c290f55c22c"
  }
 ],
 "metadata": {
  "kernelspec": {
   "display_name": "Python 3",
   "language": "python",
   "name": "python3"
  },
  "language_info": {
   "codemirror_mode": {
    "name": "ipython",
    "version": 2
   },
   "file_extension": ".py",
   "mimetype": "text/x-python",
   "name": "python",
   "nbconvert_exporter": "python",
   "pygments_lexer": "ipython2",
   "version": "2.7.6"
  }
 },
 "nbformat": 4,
 "nbformat_minor": 5
}
