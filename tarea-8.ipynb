{
 "cells": [
  {
   "metadata": {},
   "cell_type": "markdown",
   "source": [
    "1. Build and train a keras sequential model to classify digits form the mnist dataset. The model\n",
    "must have a hidden dense layer of 128 neurons with a relu activation function.\n",
    "2. Now build and train a keras functional model for the same problem. The model must have\n",
    "a hidden dense layer of 128 neurons with an activation function defined by the following\n",
    "function:\n",
    "activation(x) = ( 0 if x < 0, \n",
    "sin(x −π/2) + 1 if 0 ≤ x ≤ π/2,\n",
    "x −π/2 + 1 otherwise )\n",
    "3. Repeat the previous questions but now using PyTorch."
   ],
   "id": "dd98afd61b68d97d"
  },
  {
   "metadata": {},
   "cell_type": "code",
   "outputs": [],
   "execution_count": null,
   "source": "",
   "id": "89092a9605f9d60d"
  }
 ],
 "metadata": {
  "kernelspec": {
   "display_name": "Python 3",
   "language": "python",
   "name": "python3"
  },
  "language_info": {
   "codemirror_mode": {
    "name": "ipython",
    "version": 2
   },
   "file_extension": ".py",
   "mimetype": "text/x-python",
   "name": "python",
   "nbconvert_exporter": "python",
   "pygments_lexer": "ipython2",
   "version": "2.7.6"
  }
 },
 "nbformat": 4,
 "nbformat_minor": 5
}
