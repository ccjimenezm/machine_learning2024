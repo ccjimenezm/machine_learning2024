{
  "nbformat": 4,
  "nbformat_minor": 0,
  "metadata": {
    "colab": {
      "provenance": [],
      "include_colab_link": true
    },
    "kernelspec": {
      "name": "python3",
      "display_name": "Python 3"
    },
    "language_info": {
      "name": "python"
    }
  },
  "cells": [
    {
      "cell_type": "markdown",
      "metadata": {
        "id": "view-in-github",
        "colab_type": "text"
      },
      "source": [
        "<a href=\"https://colab.research.google.com/github/ccjimenezm/machine_learning2024/blob/main/assignment1.ipynb\" target=\"_parent\"><img src=\"https://colab.research.google.com/assets/colab-badge.svg\" alt=\"Open In Colab\"/></a>"
      ]
    },
    {
      "cell_type": "markdown",
      "source": [
        "# Assignment 1\n",
        "### Jesús Daniel Caballero Colina\n",
        "### Farid Alexis Estepa\n",
        "### Cristian Jimenez"
      ],
      "metadata": {
        "id": "S7S9180yb4P8"
      }
    },
    {
      "cell_type": "markdown",
      "source": [
        "## Enunciado punto 1\n",
        "<ol type=\"a\" start=\"1\">\n",
        "  <li>Download the Abalone dataset. The dataset has one categorical attribute sex, and 8 numerical attributes. Original goal is to predict the rings attribute, which is a regression problem. For this assignment we will do two changes:\n",
        "  <ol type=\"i\">\n",
        "  <li>We will ignore the sex attribute.</li>\n",
        "  <li>We will convert the rings attribute in a binary class label ringClass, such that ringClass = 1 if rings ≥ rings and ringClass = 0 otherwise, where rings is the average value of rings for the whole dataset.</li>\n",
        "  </ol></li>\n",
        "</ol>"
      ],
      "metadata": {
        "id": "yFciCrD_cMmK"
      }
    },
    {
      "cell_type": "code",
      "source": [
        "!pip install ucimlrepo"
      ],
      "metadata": {
        "colab": {
          "base_uri": "https://localhost:8080/"
        },
        "id": "mJlSzNkdikaa",
        "outputId": "f133658b-e36a-4711-da96-317903526dad"
      },
      "execution_count": null,
      "outputs": [
        {
          "output_type": "stream",
          "name": "stdout",
          "text": [
            "Collecting ucimlrepo\n",
            "  Downloading ucimlrepo-0.0.6-py3-none-any.whl (8.0 kB)\n",
            "Installing collected packages: ucimlrepo\n",
            "Successfully installed ucimlrepo-0.0.6\n"
          ]
        }
      ]
    },
    {
      "cell_type": "code",
      "source": [
        "from ucimlrepo import fetch_ucirepo\n",
        "from sklearn.model_selection import train_test_split\n",
        "from scipy.stats import norm\n",
        "from sklearn.metrics import accuracy_score, precision_score, recall_score\n",
        "import matplotlib.pyplot as plt\n",
        "import numpy as np\n",
        "\n",
        "# fetch dataset\n",
        "abalone = fetch_ucirepo(id=1)\n",
        "\n",
        "# FIST CHANGE\n",
        "# Ignore sex column\n",
        "abalone.data.features = abalone.data.features.drop('Sex', axis=1)\n",
        "\n",
        "# SECOND CHANGE\n",
        "# Calculate the average value of 'rings'\n",
        "average_rings = abalone.data.targets.mean()\n",
        "# Create a new column 'ringClass'\n",
        "abalone.data.targets.insert(loc=0, column='ringClass', value=(abalone.data.targets >= average_rings).astype(int))\n",
        "abalone.data.targets = abalone.data.targets.drop('Rings', axis=1)"
      ],
      "metadata": {
        "id": "Lxl1aPCedzmu"
      },
      "execution_count": null,
      "outputs": []
    },
    {
      "cell_type": "markdown",
      "source": [
        "<ol type=\"a\" start=\"2\">\n",
        "  <li>Load and process the the dataset to obtain two numpy arrays X and y, with the input features and the class label respectively.</li>\n",
        "</ol>"
      ],
      "metadata": {
        "id": "YzISqw7zhI1I"
      }
    },
    {
      "cell_type": "code",
      "source": [
        "# data (as pandas dataframes)\n",
        "X = abalone.data.features.to_numpy()\n",
        "y = abalone.data.targets.to_numpy()\n",
        "\n",
        "print(X)\n",
        "print(y)"
      ],
      "metadata": {
        "colab": {
          "base_uri": "https://localhost:8080/"
        },
        "id": "QqLDBO3SjsCP",
        "outputId": "a6b026aa-ae56-4dc1-ef6f-82337f489952"
      },
      "execution_count": null,
      "outputs": [
        {
          "output_type": "stream",
          "name": "stdout",
          "text": [
            "[[0.455  0.365  0.095  ... 0.2245 0.101  0.15  ]\n",
            " [0.35   0.265  0.09   ... 0.0995 0.0485 0.07  ]\n",
            " [0.53   0.42   0.135  ... 0.2565 0.1415 0.21  ]\n",
            " ...\n",
            " [0.6    0.475  0.205  ... 0.5255 0.2875 0.308 ]\n",
            " [0.625  0.485  0.15   ... 0.531  0.261  0.296 ]\n",
            " [0.71   0.555  0.195  ... 0.9455 0.3765 0.495 ]]\n",
            "[[1]\n",
            " [0]\n",
            " [0]\n",
            " ...\n",
            " [0]\n",
            " [1]\n",
            " [1]]\n"
          ]
        }
      ]
    },
    {
      "cell_type": "markdown",
      "source": [
        "<ol type=\"a\" start=\"3\">\n",
        "  <li>Split the dataset in training and validation using the following scikit-learn command: train_test_split(X, y, test_size=0.33, random_state=42 where X and y are the input features and labels respectively.</li>\n",
        "</ol>"
      ],
      "metadata": {
        "id": "RYUG1jQyhQQm"
      }
    },
    {
      "cell_type": "code",
      "source": [
        "X_train, X_test, y_train, y_test = train_test_split(X, y, test_size=0.33, random_state=42)"
      ],
      "metadata": {
        "id": "l-gkopjzk6e8"
      },
      "execution_count": null,
      "outputs": []
    },
    {
      "cell_type": "markdown",
      "source": [
        "<ol type=\"a\" start=\"4\">\n",
        "  <li>For each one of the 7 input features build a univariate Gaussian classifier estimating the parameters using the training dataset and evaluating the classifier in the validation dataset. For each classifier write down the parameters. Report accuracy, precision and recall. Which classifier is the best? For this classifier draw the curves for the posterior distribution for each class and show where the decision boundary is.</li>\n",
        "</ol>"
      ],
      "metadata": {
        "id": "KgX-tnWqhS8P"
      }
    },
    {
      "cell_type": "code",
      "source": [
        "# Initialize a dictionary to hold the Gaussian classifiers for each feature\n",
        "gaussian_classifiers = []\n",
        "accuracy_scores = []\n",
        "precision_scores = []\n",
        "recall_scores = []\n",
        "\n",
        "# For each feature in the training set\n",
        "for i in range(len(abalone.data.features.columns)):\n",
        "  # Estimate the parameters (mean and standard deviation) of the Gaussian distribution\n",
        "  mean = X_train[:,i].mean()\n",
        "  std = X_train[:,i].std()\n",
        "  # Build the univariate Gaussian classifier\n",
        "  gaussian_classifier = norm(loc=mean, scale=std)\n",
        "  gaussian_classifiers.append(gaussian_classifier)\n",
        "\n",
        "  # Now, we can use these classifiers to make predictions on the validation set\n",
        "  # For each feature in the validation set\n",
        "  # Use the classifier to make predictions on the validation set\n",
        "  probabilities = gaussian_classifier.pdf(X_test[:,i])\n",
        "  # Here, `predictions` is a numpy array containing the predicted probabilities for each instance in the validation set\n",
        "  # You can then use these probabilities to make class predictions, evaluate the classifier, etc.\n",
        "  predictions = (probabilities >= 0.5).astype(int)\n",
        "  # Calculate accuracy, precision, and recall\n",
        "  accuracy = accuracy_score(y_test, predictions)\n",
        "  precision = precision_score(y_test, predictions)\n",
        "  recall = recall_score(y_test, predictions)\n",
        "\n",
        "  accuracy_scores.append(accuracy)\n",
        "  precision_scores.append(precision)\n",
        "  recall_scores.append(recall)\n",
        "  # Report the metrics\n",
        "  print(f\"Feature: {abalone.data.features.columns[i]}, Mean: {gaussian_classifier.mean()}, Standard Deviation: {gaussian_classifier.std()}\")\n",
        "  print(f\"Accuracy: {accuracy}, Precision: {precision}, Recall: {recall}\")\n",
        "  print(\"\")"
      ],
      "metadata": {
        "colab": {
          "base_uri": "https://localhost:8080/"
        },
        "id": "iD031Av2fEgA",
        "outputId": "45070515-6288-4ef8-a873-77ddf77bb64a"
      },
      "execution_count": null,
      "outputs": [
        {
          "output_type": "stream",
          "name": "stdout",
          "text": [
            "Feature: Length, Mean: 0.5260436025732665, Standard Deviation: 0.11966962605333417\n",
            "Accuracy: 0.536620739666425, Precision: 0.5115562403697997, Recall: 0.992526158445441\n",
            "\n",
            "Feature: Diameter, Mean: 0.4095085775553967, Standard Deviation: 0.09899151827938374\n",
            "Accuracy: 0.5293691080493111, Precision: 0.5076103500761036, Recall: 0.9970104633781763\n",
            "\n",
            "Feature: Height, Mean: 0.14010543245175128, Standard Deviation: 0.04271099873507253\n",
            "Accuracy: 0.4902102973168963, Precision: 0.48757309941520466, Recall: 0.9970104633781763\n",
            "\n",
            "Feature: Whole_weight, Mean: 0.8361988920657614, Standard Deviation: 0.49308710885038004\n",
            "Accuracy: 0.5286439448875997, Precision: 0.5105672969966629, Recall: 0.6860986547085202\n",
            "\n",
            "Feature: Shucked_weight, Mean: 0.3629833809864189, Standard Deviation: 0.2241500784651146\n",
            "Accuracy: 0.4474256707759246, Precision: 0.46442234123947973, Recall: 0.9073243647234679\n",
            "\n",
            "Feature: Viscera_weight, Mean: 0.18220854181558255, Standard Deviation: 0.1094054789100124\n",
            "Accuracy: 0.45467730239303844, Precision: 0.4689138576779026, Recall: 0.9357249626307922\n",
            "\n",
            "Feature: Shell_weight, Mean: 0.24131415296640457, Standard Deviation: 0.1408117826540741\n",
            "Accuracy: 0.45685279187817257, Precision: 0.47005988023952094, Recall: 0.9387144992526159\n",
            "\n"
          ]
        }
      ]
    },
    {
      "cell_type": "code",
      "source": [
        "# Find the feature with the highest accuracy\n",
        "index_max = np.argmax(accuracy_scores)\n",
        "print(f\"Feature with highest accuracy: {abalone.data.features.columns[index_max]}, Accuracy: {accuracy_scores[index_max]}\")\n",
        "# Find the feature with the highest precision\n",
        "index_max = np.argmax(precision_scores)\n",
        "print(f\"Feature with highest precision: {abalone.data.features.columns[index_max]}, Precision: {precision_scores[index_max]}\")\n",
        "# Find the feature with the highest recall\n",
        "index_max = np.argmax(recall_scores)\n",
        "print(f\"Feature with highest recall: {abalone.data.features.columns[index_max]}, Recall: {recall_scores[index_max]}\")"
      ],
      "metadata": {
        "colab": {
          "base_uri": "https://localhost:8080/"
        },
        "id": "WPItNgH8gImF",
        "outputId": "ab2af3b2-e9bd-48ff-aa06-290086e34fcd"
      },
      "execution_count": null,
      "outputs": [
        {
          "output_type": "stream",
          "name": "stdout",
          "text": [
            "Feature with highest accuracy: Length, Accuracy: 0.536620739666425\n",
            "Feature with highest precision: Length, Precision: 0.5115562403697997\n",
            "Feature with highest recall: Diameter, Recall: 0.9970104633781763\n"
          ]
        }
      ]
    },
    {
      "cell_type": "markdown",
      "source": [
        "We selected the _length_ feature because it has the best accuracy and precision, and it also has a high recall."
      ],
      "metadata": {
        "id": "2EiwsowUx2WX"
      }
    },
    {
      "cell_type": "code",
      "source": [
        "# Get the Gaussian classifier for the 'length' feature\n",
        "index = 0\n",
        "feature = abalone.data.features.columns[index]\n",
        "\n",
        "gaussian_classifier = gaussian_classifiers[index]\n",
        "# Calculate the pdfs for the two classes\n",
        "x_values = np.linspace(X_train[:,i].min(), X_train[:,i].max(), 1000)\n",
        "pdf_class_0 = gaussian_classifier.pdf(x_values) * (y_train == 0).mean()\n",
        "pdf_class_1 = gaussian_classifier.pdf(x_values) * (y_train == 1).mean()\n",
        "# Find the decision boundary (where the two pdfs cross)\n",
        "decision_boundary = x_values[np.abs(pdf_class_0 - pdf_class_1).argmin()]\n",
        "# Plot the pdfs\n",
        "plt.plot(x_values, pdf_class_0, label='Class 0')\n",
        "plt.plot(x_values, pdf_class_1, label='Class 1')\n",
        "# Plot the decision boundary\n",
        "plt.axvline(decision_boundary, color='red', linestyle='--', label='Decision Boundary')\n",
        "# Add labels and legend\n",
        "plt.xlabel(feature)\n",
        "plt.ylabel('Posterior')\n",
        "plt.legend()\n",
        "# Show the plot\n",
        "plt.show()"
      ],
      "metadata": {
        "colab": {
          "base_uri": "https://localhost:8080/",
          "height": 452
        },
        "id": "ZmVjpoAigKpg",
        "outputId": "22d9c46e-8d5e-4a77-e614-5b7d8a73dcd1"
      },
      "execution_count": null,
      "outputs": [
        {
          "output_type": "display_data",
          "data": {
            "text/plain": [
              "<Figure size 640x480 with 1 Axes>"
            ],
            "image/png": "[encoded data removed]"
          },
          "metadata": {}
        }
      ]
    },
    {
      "cell_type": "code",
      "source": [
        "# Find the decision boundary (where the two pdfs cross)\n",
        "decision_boundary = x_values[np.where(pdf_class_0 < pdf_class_1)[0][0]]\n",
        "# Plot the pdfs\n",
        "plt.plot(x_values, pdf_class_0, label='Class 0')\n",
        "plt.plot(x_values, pdf_class_1, label='Class 1')\n",
        "# Plot the decision boundary\n",
        "plt.axvline(decision_boundary, color='red', linestyle='--', label='Decision Boundary')\n",
        "# Add labels and legend\n",
        "plt.xlabel('Length')\n",
        "plt.ylabel('Posterior')\n",
        "plt.legend()\n",
        "# Show the plot\n",
        "plt.show()"
      ],
      "metadata": {
        "colab": {
          "base_uri": "https://localhost:8080/",
          "height": 452
        },
        "id": "4L0xRvVvgORW",
        "outputId": "4829075e-a27b-4e19-dfec-f25ed989bb60"
      },
      "execution_count": null,
      "outputs": [
        {
          "output_type": "display_data",
          "data": {
            "text/plain": [
              "<Figure size 640x480 with 1 Axes>"
            ],
            "image/png": "[encoded data removed]"
          },
          "metadata": {}
        }
      ]
    },
    {
      "cell_type": "markdown",
      "source": [
        "## Enunciado punto 2\n",
        "\n",
        "<ol type=\"a\" start=\"1\">\n",
        "  <li>In this question, you will take all the combinations of pair of features. For each pair of features you will model the classes as bivariate Gaussian distributions with a covariance matrix Σ = Iσ, where σ is a scalar, shared by all the classes. This is, the distribution for each class has a different mean but the same covariance matrix.</li>\n",
        "</ol>"
      ],
      "metadata": {
        "id": "H7_30Calq5Rv"
      }
    },
    {
      "cell_type": "code",
      "source": [
        "from scipy.stats import multivariate_normal\n",
        "from itertools import combinations\n",
        "# Get all combinations of pair of features\n",
        "feature_pairs = combinations(range(len(abalone.data.features.columns)), 2)\n",
        "# Initialize a dictionary to hold the Gaussian classifiers for each pair of features\n",
        "gaussian_classifiers = {}\n",
        "# Calculate the standard deviation for the covariance matrix\n",
        "sigma = X_train.std().mean()\n",
        "# For each pair of features in the training set\n",
        "for pair in feature_pairs:\n",
        "  # Initialize a dictionary to hold the Gaussian classifiers for each class\n",
        "  gaussian_classifiers[pair] = {}\n",
        "  # For each class\n",
        "  for class_label in np.unique(y_train):\n",
        "    # Get the instances of the current class\n",
        "    instances = X_train[y_train.reshape(-1,1) == class_label]\n",
        "    # Estimate the parameters (mean) of the Gaussian distribution for each feature\n",
        "    mean = instances[list(pair)].mean()\n",
        "    sigma1 = X_train[pair[0]].std().mean()\n",
        "    sigma2 = X_train[pair[1]].std().mean()\n",
        "    cov = cov(X_train[pair[0],pair[1]])\n",
        "    sum_ = np.array([[sigma1,cov],[cov,sigma2]])\n",
        "    sum_ = sigma**2 * np.eye(2)\n",
        "    # Build the bivariate Gaussian classifier with the same covariance matrix for all classes\n",
        "    gaussian_classifiers[pair][class_label] = multivariate_normal(mean=mean, cov=sum_)\n",
        "\n",
        "# Now, we can use these classifiers to make predictions on the validation set\n",
        "# For each pair of features in the validation set\n",
        "for pair in feature_pairs:\n",
        "  # For each class\n",
        "  for class_label in y_train.unique():\n",
        "    # Get the Gaussian classifier for this pair of features and class\n",
        "    gaussian_classifier = gaussian_classifiers[pair][class_label]\n",
        "    # Use the classifier to make predictions on the validation set\n",
        "    probabilities = gaussian_classifier.pdf(X_test[list(pair)])\n",
        "    # Here, `probabilities` is a numpy array containing the predicted probabilities for each instance in the validation s\n",
        "    # You can then use these probabilities to make class predictions, evaluate the classifier, etc."
      ],
      "metadata": {
        "colab": {
          "base_uri": "https://localhost:8080/",
          "height": 219
        },
        "id": "mZEHViaagUiJ",
        "outputId": "4a015c73-d7b8-4c43-bfc3-c46f3d539127"
      },
      "execution_count": null,
      "outputs": [
        {
          "output_type": "error",
          "ename": "IndexError",
          "evalue": "boolean index did not match indexed array along dimension 1; dimension is 7 but corresponding boolean dimension is 1",
          "traceback": [
            "\u001b[0;31m---------------------------------------------------------------------------\u001b[0m",
            "\u001b[0;31mIndexError\u001b[0m                                Traceback (most recent call last)",
            "\u001b[0;32m<ipython-input-70-e794aa0b4d18>\u001b[0m in \u001b[0;36m<cell line: 10>\u001b[0;34m()\u001b[0m\n\u001b[1;32m     14\u001b[0m   \u001b[0;32mfor\u001b[0m \u001b[0mclass_label\u001b[0m \u001b[0;32min\u001b[0m \u001b[0mnp\u001b[0m\u001b[0;34m.\u001b[0m\u001b[0munique\u001b[0m\u001b[0;34m(\u001b[0m\u001b[0my_train\u001b[0m\u001b[0;34m)\u001b[0m\u001b[0;34m:\u001b[0m\u001b[0;34m\u001b[0m\u001b[0;34m\u001b[0m\u001b[0m\n\u001b[1;32m     15\u001b[0m     \u001b[0;31m# Get the instances of the current class\u001b[0m\u001b[0;34m\u001b[0m\u001b[0;34m\u001b[0m\u001b[0m\n\u001b[0;32m---> 16\u001b[0;31m     \u001b[0minstances\u001b[0m \u001b[0;34m=\u001b[0m \u001b[0mX_train\u001b[0m\u001b[0;34m[\u001b[0m\u001b[0my_train\u001b[0m\u001b[0;34m.\u001b[0m\u001b[0mreshape\u001b[0m\u001b[0;34m(\u001b[0m\u001b[0;34m-\u001b[0m\u001b[0;36m1\u001b[0m\u001b[0;34m,\u001b[0m\u001b[0;36m1\u001b[0m\u001b[0;34m)\u001b[0m \u001b[0;34m==\u001b[0m \u001b[0mclass_label\u001b[0m\u001b[0;34m]\u001b[0m\u001b[0;34m\u001b[0m\u001b[0;34m\u001b[0m\u001b[0m\n\u001b[0m\u001b[1;32m     17\u001b[0m     \u001b[0;31m# Estimate the parameters (mean) of the Gaussian distribution for each feature\u001b[0m\u001b[0;34m\u001b[0m\u001b[0;34m\u001b[0m\u001b[0m\n\u001b[1;32m     18\u001b[0m     \u001b[0mmean\u001b[0m \u001b[0;34m=\u001b[0m \u001b[0minstances\u001b[0m\u001b[0;34m[\u001b[0m\u001b[0mlist\u001b[0m\u001b[0;34m(\u001b[0m\u001b[0mpair\u001b[0m\u001b[0;34m)\u001b[0m\u001b[0;34m]\u001b[0m\u001b[0;34m.\u001b[0m\u001b[0mmean\u001b[0m\u001b[0;34m(\u001b[0m\u001b[0;34m)\u001b[0m\u001b[0;34m\u001b[0m\u001b[0;34m\u001b[0m\u001b[0m\n",
            "\u001b[0;31mIndexError\u001b[0m: boolean index did not match indexed array along dimension 1; dimension is 7 but corresponding boolean dimension is 1"
          ]
        }
      ]
    },
    {
      "cell_type": "markdown",
      "source": [
        "<ol type=\"a\" start=\"2\">\n",
        "  <li>For each combination estimate the parameters using the training dataset and evaluate the classifier in the validation dataset. Which combination of parameters obtained the best performance? Report the evaluation results for the best performing combination.</li>\n",
        "</ol>"
      ],
      "metadata": {
        "id": "q3uAzVAYrPml"
      }
    },
    {
      "cell_type": "code",
      "source": [],
      "metadata": {
        "id": "jupkCSOpvTfd"
      },
      "execution_count": null,
      "outputs": []
    },
    {
      "cell_type": "markdown",
      "source": [
        "<ol type=\"a\" start=\"3\">\n",
        "  <li>Draw ROC curves for the best performing univariate model (from question 1) and bivariate model. Which model is better? Explain the results.</li>\n",
        "</ol>"
      ],
      "metadata": {
        "id": "AkpeJjYprP28"
      }
    },
    {
      "cell_type": "code",
      "source": [],
      "metadata": {
        "id": "igeNVL2cvUCJ"
      },
      "execution_count": null,
      "outputs": []
    },
    {
      "cell_type": "markdown",
      "source": [
        "## Enunciado punto 3\n",
        "<ol type=\"a\" start=\"1\">\n",
        "  <li>For the best bivariate model (from question 2) draw a plot, where the regions corresponding to the two classes are shown with different colors. A region corresponding to a class is the set of points where the particular class discriminant function is maximum (decision regions, [Alp14] Sect. 3.4).</li>\n",
        "</ol>"
      ],
      "metadata": {
        "id": "3qRbSb4zd1yI"
      }
    },
    {
      "cell_type": "code",
      "source": [],
      "metadata": {
        "id": "eQPxisFevUwJ"
      },
      "execution_count": null,
      "outputs": []
    },
    {
      "cell_type": "markdown",
      "source": [
        "<ol type=\"a\" start=\"2\">\n",
        "  <li>The boundary between class regions must be a line. Calculate the equation of this line clearly explaining the deduction process. Draw the line along with the regions..</li>\n",
        "</ol>"
      ],
      "metadata": {
        "id": "wGgU5dVGtJwU"
      }
    },
    {
      "cell_type": "code",
      "source": [],
      "metadata": {
        "id": "TEt1rIH-vVMV"
      },
      "execution_count": null,
      "outputs": []
    },
    {
      "cell_type": "markdown",
      "source": [
        "## Enunciado punto 4\n",
        "<ol type=\"a\" start=\"1\">\n",
        "  <li>Using the best combination of parameters found in question 2 build a bivariate classifier, but this time the covariance matrix could be an arbitrary matrix (not diagonal) and different for each class.</li>\n",
        "</ol>"
      ],
      "metadata": {
        "id": "IktHa-JPtaDZ"
      }
    },
    {
      "cell_type": "code",
      "source": [],
      "metadata": {
        "id": "3FwFUItTvVyC"
      },
      "execution_count": null,
      "outputs": []
    },
    {
      "cell_type": "markdown",
      "source": [
        "<ol type=\"a\" start=\"2\">\n",
        "  <li> Draw the regions corresponding to each class. Compare with the regions obtained in question 3. Discuss.</li>\n",
        "</ol>"
      ],
      "metadata": {
        "id": "pTNjbSY4tvt4"
      }
    },
    {
      "cell_type": "code",
      "source": [],
      "metadata": {
        "id": "EvySnpL1vWPP"
      },
      "execution_count": null,
      "outputs": []
    },
    {
      "cell_type": "markdown",
      "source": [
        "<ol type=\"a\" start=\"3\">\n",
        "  <li>Add the possibility of rejection to your model. Draw the three regions corresponding to both classes and rejection. Discuss.</li>\n",
        "</ol>"
      ],
      "metadata": {
        "id": "WGyRg05PtwC9"
      }
    },
    {
      "cell_type": "code",
      "source": [],
      "metadata": {
        "id": "IUMtCMCBvWtv"
      },
      "execution_count": null,
      "outputs": []
    }
  ]
}