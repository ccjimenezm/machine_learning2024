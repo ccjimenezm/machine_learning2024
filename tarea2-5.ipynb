{
 "cells": [
  {
   "cell_type": "code",
   "outputs": [],
   "source": [
    "from sklearn import datasets\n",
    "from sklearn.model_selection import train_test_split, cross_val_score, ShuffleSplit\n",
    "from sklearn.tree import DecisionTreeClassifier\n",
    "from sklearn.ensemble import RandomForestClassifier\n",
    "from sklearn.metrics import accuracy_score\n",
    "from scipy import stats\n",
    "from mlxtend.evaluate import mcnemar_table, mcnemar\n",
    "import numpy as np\n",
    "\n",
    "# Load the Wine dataset\n",
    "wine = datasets.load_wine()\n",
    "X = wine.data\n",
    "y = wine.target\n",
    "\n",
    "# Split the dataset into training and test sets\n",
    "X_train, X_test, y_train, y_test = train_test_split(X, y, test_size=0.3, random_state=42)\n",
    "\n"
   ],
   "metadata": {
    "collapsed": false,
    "ExecuteTime": {
     "end_time": "2024-02-29T14:57:38.143623Z",
     "start_time": "2024-02-29T14:57:38.135541Z"
    }
   },
   "id": "db5951ad9dd50c89",
   "execution_count": 6
  },
  {
   "cell_type": "code",
   "outputs": [
    {
     "name": "stdout",
     "output_type": "stream",
     "text": [
      "Confidence interval for the accuracy: [0.87, 0.99]\n"
     ]
    }
   ],
   "source": [
    "from statsmodels.stats.proportion import proportion_confint\n",
    "\n",
    "dt = DecisionTreeClassifier()\n",
    "dt.fit(X_train, y_train)\n",
    "\n",
    "# Calculate the accuracy of the classifier on the test set\n",
    "dt_accuracy = accuracy_score(y_test, dt.predict(X_test))\n",
    "\n",
    "# Compute a confidence interval using a Binomial distribution\n",
    "n = len(y_test)\n",
    "\n",
    "# Calculate the Wilson confidence interval\n",
    "lower, upper = proportion_confint(count=dt_accuracy * n, nobs=n, alpha=0.05, method='wilson')\n",
    "\n",
    "print('Confidence interval for the accuracy: [{:.2f}, {:.2f}]'.format(lower, upper))"
   ],
   "metadata": {
    "collapsed": false,
    "ExecuteTime": {
     "end_time": "2024-02-29T14:57:38.150693Z",
     "start_time": "2024-02-29T14:57:38.145411Z"
    }
   },
   "id": "1430b397a4470db5",
   "execution_count": 7
  },
  {
   "cell_type": "code",
   "outputs": [
    {
     "name": "stdout",
     "output_type": "stream",
     "text": [
      "Mean accuracy: 0.92\n",
      "95% confidence interval for the accuracy: [0.90, 0.93]\n"
     ]
    }
   ],
   "source": [
    "\n",
    "\n",
    "# Number of bootstrap repetitions\n",
    "n_repetitions = 30\n",
    "\n",
    "# Create a cross-validation method\n",
    "cv = ShuffleSplit(n_splits=n_repetitions, test_size=0.3, random_state=42)\n",
    "\n",
    "# Perform cross-validation\n",
    "scores = cross_val_score(dt, X, y, cv=cv)\n",
    "\n",
    "# Calculate the mean accuracy and the 95% confidence interval\n",
    "mean_score = scores.mean()\n",
    "confidence_interval = stats.t.interval(0.95, len(scores)-1, loc=mean_score, scale=stats.sem(scores))\n",
    "\n",
    "print('Mean accuracy: {:.2f}'.format(mean_score))\n",
    "print('95% confidence interval for the accuracy: [{:.2f}, {:.2f}]'.format(confidence_interval[0], confidence_interval[1]))"
   ],
   "metadata": {
    "collapsed": false,
    "ExecuteTime": {
     "end_time": "2024-02-29T14:57:38.187539Z",
     "start_time": "2024-02-29T14:57:38.151555Z"
    }
   },
   "id": "cf80d593a3c45dd3",
   "execution_count": 8
  },
  {
   "cell_type": "code",
   "outputs": [
    {
     "name": "stdout",
     "output_type": "stream",
     "text": [
      "Mean accuracy for Random Forest: 0.98\n",
      "t-statistic: -11.36\n",
      "p-value: 0.00\n"
     ]
    }
   ],
   "source": [
    "rf = RandomForestClassifier()\n",
    "\n",
    "# Perform cross-validation for the Random Forest classifier\n",
    "rf_scores = cross_val_score(rf, X, y, cv=cv)\n",
    "\n",
    "# Calculate the mean accuracy for the Random Forest classifier\n",
    "rf_mean_score = rf_scores.mean()\n",
    "\n",
    "print('Mean accuracy for Random Forest: {:.2f}'.format(rf_mean_score))\n",
    "\n",
    "# Perform a paired t-test between the scores of the Decision Tree and Random Forest classifiers\n",
    "t_stat, p_value = stats.ttest_rel(scores, rf_scores)\n",
    "\n",
    "print('t-statistic: {:.2f}'.format(t_stat))\n",
    "print('p-value: {:.2f}'.format(p_value))"
   ],
   "metadata": {
    "collapsed": false,
    "ExecuteTime": {
     "end_time": "2024-02-29T14:57:39.820637Z",
     "start_time": "2024-02-29T14:57:38.188521Z"
    }
   },
   "id": "b9087d01ab03213a",
   "execution_count": 9
  },
  {
   "cell_type": "code",
   "outputs": [
    {
     "name": "stdout",
     "output_type": "stream",
     "text": [
      "chi-squared: 0.5\n",
      "p-value: 0.47950012218695337\n"
     ]
    }
   ],
   "source": [
    "\n",
    "# Fit the classifiers to the training data\n",
    "dt.fit(X_train, y_train)\n",
    "rf.fit(X_train, y_train)\n",
    "\n",
    "# Get the predictions of the classifiers on the test data\n",
    "dt_predictions = dt.predict(X_test)\n",
    "rf_predictions = rf.predict(X_test)\n",
    "\n",
    "# Create a contingency table\n",
    "contingency_table = mcnemar_table(y_target=y_test, \n",
    "                                  y_model1=dt_predictions, \n",
    "                                  y_model2=rf_predictions)\n",
    "\n",
    "# Perform McNemar's test\n",
    "chi2, p_value = mcnemar(ary=contingency_table, corrected=True)\n",
    "\n",
    "print('chi-squared:', chi2)\n",
    "print('p-value:', p_value)"
   ],
   "metadata": {
    "collapsed": false,
    "ExecuteTime": {
     "end_time": "2024-02-29T14:57:39.880988Z",
     "start_time": "2024-02-29T14:57:39.822284Z"
    }
   },
   "id": "816b3a711c3892d3",
   "execution_count": 10
  },
  {
   "cell_type": "code",
   "outputs": [],
   "source": [],
   "metadata": {
    "collapsed": false,
    "ExecuteTime": {
     "end_time": "2024-02-29T14:57:39.883036Z",
     "start_time": "2024-02-29T14:57:39.881647Z"
    }
   },
   "id": "1d9b150bcfba7738",
   "execution_count": 10
  }
 ],
 "metadata": {
  "kernelspec": {
   "display_name": "Python 3",
   "language": "python",
   "name": "python3"
  },
  "language_info": {
   "codemirror_mode": {
    "name": "ipython",
    "version": 2
   },
   "file_extension": ".py",
   "mimetype": "text/x-python",
   "name": "python",
   "nbconvert_exporter": "python",
   "pygments_lexer": "ipython2",
   "version": "2.7.6"
  }
 },
 "nbformat": 4,
 "nbformat_minor": 5
}
