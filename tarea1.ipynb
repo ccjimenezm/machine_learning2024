{
 "cells": [
  {
   "cell_type": "markdown",
   "source": [
    "Primer ejercicio"
   ],
   "metadata": {
    "collapsed": false
   },
   "id": "e8495c66de3ac5fc"
  },
  {
   "cell_type": "code",
   "outputs": [],
   "source": [
    "import numpy as np\n",
    "\n",
    "TD = np.array([\n",
    "    [2, 3, 0, 3, 7],\n",
    "    [0, 5, 5, 0, 3],\n",
    "    [5, 0, 7, 3, 3],\n",
    "    [3, 1, 0, 9, 9],\n",
    "    [0, 0, 7, 1, 3],\n",
    "    [6, 9, 4, 6, 0]\n",
    "])\n",
    "\n",
    "total_terms = np.sum(TD)"
   ],
   "metadata": {
    "collapsed": false,
    "ExecuteTime": {
     "end_time": "2024-02-13T21:02:29.388099600Z",
     "start_time": "2024-02-13T21:02:29.379310800Z"
    }
   },
   "id": "55dde4ef99a2d030",
   "execution_count": 4
  },
  {
   "cell_type": "code",
   "outputs": [],
   "source": [
    "P_TD = TD / total_terms"
   ],
   "metadata": {
    "collapsed": false,
    "ExecuteTime": {
     "end_time": "2024-02-13T21:02:29.398385900Z",
     "start_time": "2024-02-13T21:02:29.390100800Z"
    }
   },
   "id": "55cfa3e65efbe90d",
   "execution_count": 5
  },
  {
   "cell_type": "code",
   "outputs": [
    {
     "name": "stdout",
     "output_type": "stream",
     "text": [
      "[[0.01923077 0.02884615 0.         0.02884615 0.06730769]\n",
      " [0.         0.04807692 0.04807692 0.         0.02884615]\n",
      " [0.04807692 0.         0.06730769 0.02884615 0.02884615]\n",
      " [0.02884615 0.00961538 0.         0.08653846 0.08653846]\n",
      " [0.         0.         0.06730769 0.00961538 0.02884615]\n",
      " [0.05769231 0.08653846 0.03846154 0.05769231 0.        ]]\n"
     ]
    }
   ],
   "source": [
    "print(P_TD)"
   ],
   "metadata": {
    "collapsed": false,
    "ExecuteTime": {
     "end_time": "2024-02-13T21:02:29.415860500Z",
     "start_time": "2024-02-13T21:02:29.399386700Z"
    }
   },
   "id": "26969d586e678f05",
   "execution_count": 6
  }
 ],
 "metadata": {
  "kernelspec": {
   "display_name": "Python 3",
   "language": "python",
   "name": "python3"
  },
  "language_info": {
   "codemirror_mode": {
    "name": "ipython",
    "version": 2
   },
   "file_extension": ".py",
   "mimetype": "text/x-python",
   "name": "python",
   "nbconvert_exporter": "python",
   "pygments_lexer": "ipython2",
   "version": "2.7.6"
  }
 },
 "nbformat": 4,
 "nbformat_minor": 5
}
