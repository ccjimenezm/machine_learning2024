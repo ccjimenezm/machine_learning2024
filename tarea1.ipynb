{
  "cells": [
    {
      "cell_type": "markdown",
      "metadata": {
        "id": "view-in-github",
        "colab_type": "text"
      },
      "source": [
        "<a href=\"https://colab.research.google.com/github/ccjimenezm/machine_learning2024/blob/main/tarea1.ipynb\" target=\"_parent\"><img src=\"https://colab.research.google.com/assets/colab-badge.svg\" alt=\"Open In Colab\"/></a>"
      ]
    },
    {
      "cell_type": "markdown",
      "source": [
        "Primer ejercicio"
      ],
      "metadata": {
        "collapsed": false,
        "id": "e8495c66de3ac5fc"
      },
      "id": "e8495c66de3ac5fc"
    },
    {
      "cell_type": "code",
      "outputs": [],
      "source": [
        "import numpy as np\n",
        "\n",
        "TD = np.array([\n",
        "    [2, 3, 0, 3, 7],\n",
        "    [0, 5, 5, 0, 3],\n",
        "    [5, 0, 7, 3, 3],\n",
        "    [3, 1, 0, 9, 9],\n",
        "    [0, 0, 7, 1, 3],\n",
        "    [6, 9, 4, 6, 0]\n",
        "])\n",
        "\n",
        "total_terms = np.sum(TD)"
      ],
      "metadata": {
        "ExecuteTime": {
          "end_time": "2024-02-15T12:38:24.630073200Z",
          "start_time": "2024-02-15T12:38:24.520855400Z"
        },
        "id": "55dde4ef99a2d030"
      },
      "id": "55dde4ef99a2d030",
      "execution_count": null
    },
    {
      "cell_type": "code",
      "outputs": [],
      "source": [
        "P_TD = TD / total_terms"
      ],
      "metadata": {
        "ExecuteTime": {
          "end_time": "2024-02-15T12:38:24.636482600Z",
          "start_time": "2024-02-15T12:38:24.630073200Z"
        },
        "id": "55cfa3e65efbe90d"
      },
      "id": "55cfa3e65efbe90d",
      "execution_count": null
    },
    {
      "cell_type": "code",
      "outputs": [
        {
          "name": "stdout",
          "output_type": "stream",
          "text": [
            "[[0.01923077 0.02884615 0.         0.02884615 0.06730769]\n",
            " [0.         0.04807692 0.04807692 0.         0.02884615]\n",
            " [0.04807692 0.         0.06730769 0.02884615 0.02884615]\n",
            " [0.02884615 0.00961538 0.         0.08653846 0.08653846]\n",
            " [0.         0.         0.06730769 0.00961538 0.02884615]\n",
            " [0.05769231 0.08653846 0.03846154 0.05769231 0.        ]]\n"
          ]
        }
      ],
      "source": [
        "print(P_TD)"
      ],
      "metadata": {
        "ExecuteTime": {
          "end_time": "2024-02-15T12:38:24.644795900Z",
          "start_time": "2024-02-15T12:38:24.637483900Z"
        },
        "id": "26969d586e678f05",
        "outputId": "786966d1-2086-479f-b30b-f8b88c22bdda"
      },
      "id": "26969d586e678f05",
      "execution_count": null
    },
    {
      "cell_type": "markdown",
      "source": [
        "2do punto P(T|D)"
      ],
      "metadata": {
        "collapsed": false,
        "id": "41202018bf96b4b"
      },
      "id": "41202018bf96b4b"
    },
    {
      "cell_type": "code",
      "outputs": [],
      "source": [
        "sum_per_document = np.sum(TD, axis = 1)"
      ],
      "metadata": {
        "ExecuteTime": {
          "end_time": "2024-02-15T12:38:24.649762800Z",
          "start_time": "2024-02-15T12:38:24.647753700Z"
        },
        "id": "2f37bb9345f12404"
      },
      "id": "2f37bb9345f12404",
      "execution_count": null
    },
    {
      "cell_type": "code",
      "outputs": [],
      "source": [
        "P_T_given_D = TD / sum_per_document[:, None]"
      ],
      "metadata": {
        "ExecuteTime": {
          "end_time": "2024-02-15T12:38:24.679793600Z",
          "start_time": "2024-02-15T12:38:24.651761900Z"
        },
        "id": "2944c5345e08b11f"
      },
      "id": "2944c5345e08b11f",
      "execution_count": null
    },
    {
      "cell_type": "code",
      "outputs": [
        {
          "name": "stdout",
          "output_type": "stream",
          "text": [
            "[[0.13333333 0.2        0.         0.2        0.46666667]\n",
            " [0.         0.38461538 0.38461538 0.         0.23076923]\n",
            " [0.27777778 0.         0.38888889 0.16666667 0.16666667]\n",
            " [0.13636364 0.04545455 0.         0.40909091 0.40909091]\n",
            " [0.         0.         0.63636364 0.09090909 0.27272727]\n",
            " [0.24       0.36       0.16       0.24       0.        ]]\n"
          ]
        }
      ],
      "source": [
        "print(P_T_given_D)"
      ],
      "metadata": {
        "ExecuteTime": {
          "end_time": "2024-02-15T12:38:41.714842800Z",
          "start_time": "2024-02-15T12:38:41.701931400Z"
        },
        "id": "d850b7db31c12a09",
        "outputId": "b9208784-076b-4821-c978-63ada5854af4"
      },
      "id": "d850b7db31c12a09",
      "execution_count": null
    },
    {
      "cell_type": "markdown",
      "source": [
        "3 punto P(D|T)"
      ],
      "metadata": {
        "collapsed": false,
        "id": "523087ad5414e6a6"
      },
      "id": "523087ad5414e6a6"
    },
    {
      "cell_type": "code",
      "outputs": [],
      "source": [
        "sum_per_term = np.sum(TD, axis = 0)"
      ],
      "metadata": {
        "ExecuteTime": {
          "end_time": "2024-02-15T12:49:24.001430900Z",
          "start_time": "2024-02-15T12:49:23.993489700Z"
        },
        "id": "5c20b13282827a7f"
      },
      "id": "5c20b13282827a7f",
      "execution_count": null
    },
    {
      "cell_type": "code",
      "outputs": [],
      "source": [
        "P_D_given_T = TD / sum_per_term[None, :]"
      ],
      "metadata": {
        "ExecuteTime": {
          "end_time": "2024-02-15T12:50:00.864464600Z",
          "start_time": "2024-02-15T12:50:00.857754600Z"
        },
        "id": "7eeb3f794bfd1676"
      },
      "id": "7eeb3f794bfd1676",
      "execution_count": null
    },
    {
      "cell_type": "code",
      "outputs": [
        {
          "name": "stdout",
          "output_type": "stream",
          "text": [
            "[[0.125      0.16666667 0.         0.13636364 0.28      ]\n",
            " [0.         0.27777778 0.2173913  0.         0.12      ]\n",
            " [0.3125     0.         0.30434783 0.13636364 0.12      ]\n",
            " [0.1875     0.05555556 0.         0.40909091 0.36      ]\n",
            " [0.         0.         0.30434783 0.04545455 0.12      ]\n",
            " [0.375      0.5        0.17391304 0.27272727 0.        ]]\n"
          ]
        }
      ],
      "source": [
        "print(P_D_given_T)"
      ],
      "metadata": {
        "ExecuteTime": {
          "end_time": "2024-02-15T12:50:17.752845600Z",
          "start_time": "2024-02-15T12:50:17.731874100Z"
        },
        "id": "7fe5ac9605cf2644",
        "outputId": "b149a3e5-d60c-434c-b667-2ce178231f02"
      },
      "id": "7fe5ac9605cf2644",
      "execution_count": null
    },
    {
      "cell_type": "markdown",
      "source": [
        "4 punto Vector P(D)"
      ],
      "metadata": {
        "collapsed": false,
        "id": "df6cffe611f5099f"
      },
      "id": "df6cffe611f5099f"
    },
    {
      "cell_type": "code",
      "outputs": [
        {
          "name": "stdout",
          "output_type": "stream",
          "text": [
            "[0.14423077 0.125      0.17307692 0.21153846 0.10576923 0.24038462]\n"
          ]
        }
      ],
      "source": [
        "P_D = sum_per_document / total_terms\n",
        "print(P_D)"
      ],
      "metadata": {
        "ExecuteTime": {
          "end_time": "2024-02-15T12:56:29.191984100Z",
          "start_time": "2024-02-15T12:56:29.186346400Z"
        },
        "id": "e7a39ddc4dade24b",
        "outputId": "261ee133-1a32-435d-ca6b-1f9188c8c86a"
      },
      "id": "e7a39ddc4dade24b",
      "execution_count": null
    },
    {
      "cell_type": "markdown",
      "source": [
        "5 punto Vector P(T)"
      ],
      "metadata": {
        "collapsed": false,
        "id": "19bb69a20edf71f3"
      },
      "id": "19bb69a20edf71f3"
    },
    {
      "cell_type": "code",
      "outputs": [
        {
          "name": "stdout",
          "output_type": "stream",
          "text": [
            "[0.15384615 0.17307692 0.22115385 0.21153846 0.24038462]\n"
          ]
        }
      ],
      "source": [
        "P_T = sum_per_term / total_terms\n",
        "print(P_T)"
      ],
      "metadata": {
        "ExecuteTime": {
          "end_time": "2024-02-15T12:57:39.596992400Z",
          "start_time": "2024-02-15T12:57:39.587109800Z"
        },
        "id": "66bc10b41b1a1870",
        "outputId": "7620b426-9c63-48c4-b4f7-47fa1daa3341"
      },
      "id": "66bc10b41b1a1870",
      "execution_count": null
    },
    {
      "cell_type": "markdown",
      "source": [
        "*6* punto E(l)"
      ],
      "metadata": {
        "collapsed": false,
        "id": "eac0e42e8bed3836"
      },
      "id": "eac0e42e8bed3836"
    },
    {
      "cell_type": "code",
      "outputs": [],
      "source": [
        "L = np.array([5,2,3,6,4,3])\n",
        "probabilidad = 1 / len(L)"
      ],
      "metadata": {
        "ExecuteTime": {
          "end_time": "2024-02-15T13:02:28.342525300Z",
          "start_time": "2024-02-15T13:02:28.334519500Z"
        },
        "id": "d47f21ce478bef36"
      },
      "id": "d47f21ce478bef36",
      "execution_count": null
    },
    {
      "cell_type": "code",
      "source": [],
      "metadata": {
        "id": "kS14feyTLoHW"
      },
      "id": "kS14feyTLoHW",
      "execution_count": null,
      "outputs": []
    },
    {
      "cell_type": "code",
      "outputs": [
        {
          "name": "stdout",
          "output_type": "stream",
          "text": [
            "3.833333333333333\n"
          ]
        }
      ],
      "source": [
        "E_L = np.sum(L * probabilidad)\n",
        "print(E_L)"
      ],
      "metadata": {
        "ExecuteTime": {
          "end_time": "2024-02-15T13:03:02.882650500Z",
          "start_time": "2024-02-15T13:03:02.873052800Z"
        },
        "id": "26cc03aec2ae5a0a",
        "outputId": "485475f7-1936-4a28-adb5-a5ea2516f337"
      },
      "id": "26cc03aec2ae5a0a",
      "execution_count": null
    },
    {
      "cell_type": "markdown",
      "source": [
        "7 punto Var(l)"
      ],
      "metadata": {
        "collapsed": false,
        "id": "9c223d0cc481c2b6"
      },
      "id": "9c223d0cc481c2b6"
    },
    {
      "cell_type": "code",
      "outputs": [
        {
          "name": "stdout",
          "output_type": "stream",
          "text": [
            "1.8055555555555556\n"
          ]
        }
      ],
      "source": [
        "var_L = np.var(L)\n",
        "print(var_L)"
      ],
      "metadata": {
        "ExecuteTime": {
          "end_time": "2024-02-15T13:07:17.653578300Z",
          "start_time": "2024-02-15T13:07:17.644306200Z"
        },
        "id": "aece27c378c5330a",
        "outputId": "7aea88cd-5e83-450c-a032-7b251672b0c7"
      },
      "id": "aece27c378c5330a",
      "execution_count": null
    }
  ],
  "metadata": {
    "kernelspec": {
      "display_name": "Python 3",
      "language": "python",
      "name": "python3"
    },
    "language_info": {
      "codemirror_mode": {
        "name": "ipython",
        "version": 2
      },
      "file_extension": ".py",
      "mimetype": "text/x-python",
      "name": "python",
      "nbconvert_exporter": "python",
      "pygments_lexer": "ipython2",
      "version": "2.7.6"
    },
    "colab": {
      "provenance": [],
      "include_colab_link": true
    }
  },
  "nbformat": 4,
  "nbformat_minor": 5
}